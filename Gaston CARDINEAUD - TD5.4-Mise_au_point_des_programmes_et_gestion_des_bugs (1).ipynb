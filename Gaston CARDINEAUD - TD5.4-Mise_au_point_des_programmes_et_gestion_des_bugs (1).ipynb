{
  "metadata": {
    "colab": {
      "provenance": []
    },
    "kernelspec": {
      "name": "python",
      "display_name": "Python (Pyodide)",
      "language": "python"
    },
    "language_info": {
      "codemirror_mode": {
        "name": "python",
        "version": 3
      },
      "file_extension": ".py",
      "mimetype": "text/x-python",
      "name": "python",
      "nbconvert_exporter": "python",
      "pygments_lexer": "ipython3",
      "version": "3.8"
    }
  },
  "nbformat_minor": 4,
  "nbformat": 4,
  "cells": [
    {
      "cell_type": "markdown",
      "source": " <p align =center> <img src=\"https://github.com/esabahi/NSI_Images/blob/main/NSI-Image.png?raw=true\" width=350>\n    </p>",
      "metadata": {
        "id": "9w6gqUk23GWS"
      }
    },
    {
      "cell_type": "markdown",
      "source": "<h1 style=\"font-size: 30px; text-align: center\">TD5.4-Mise au point des programmes et gestion des bugs\n\n---\n\n# 🟥 Documenter son programme\n\n## 🐍 Exercice 1\n\n**Q1** : Donnez un meilleur nom et une chaîne de documentation à la fonction suivante.\n\n```python\ndef f(a, b):\n    return a + b\n```",
      "metadata": {
        "id": "GlWSTcNftLXO"
      }
    },
    {
      "cell_type": "code",
      "source": "# à vous de jouer !\n\ndef add(a, b):\n    \"\"\"\n    additionne la valeur a avec la valeur b\n    \"\"\"\n    return a + b",
      "metadata": {
        "id": "DVHmN_5CtLXS"
      },
      "execution_count": null,
      "outputs": []
    },
    {
      "cell_type": "markdown",
      "source": "**Q2** : Utilisez la fonction `help` pour accéder à la chaîne de documentation de cette fonction.",
      "metadata": {
        "id": "QkCK4yBztLXU"
      }
    },
    {
      "cell_type": "code",
      "source": "# à vous de jouer !\ndef add(a, b):\n    \"\"\"\n    additionne la valeur a avec la valeur b\n    \"\"\"\n    return a + b\nhelp(add)",
      "metadata": {
        "id": "xbFb6lyBtLXU",
        "trusted": true
      },
      "execution_count": 3,
      "outputs": [
        {
          "name": "stdout",
          "text": "Help on function add in module __main__:\n\nadd(a, b)\n    additionne la valeur a avec la valeur b\n\n",
          "output_type": "stream"
        }
      ]
    },
    {
      "cell_type": "markdown",
      "source": "## 🐍 Exercice 2\n\n**Q1** : Donnez un meilleur nom et une chaîne de documentation à la fonction suivante, le paramètre `t` étant un tableau.\n\n```python\ndef mystere(t):\n    s = 0\n    for i in range(len(t)):\n        s = s + t[i]\n    return s / n\n```",
      "metadata": {
        "id": "nx5ge4bAtLXV"
      }
    },
    {
      "cell_type": "code",
      "source": "# à vous de jouer !\n\ndef moyenne(t):\n    \"\"\"\n    calcule la moyenne du tableau t\n    \"\"\"\n    n=len(t)\n    s = 0\n    for i in range(len(t)):\n        s = s + t[i]\n    return s / n",
      "metadata": {
        "id": "il9m1YvEtLXV"
      },
      "execution_count": null,
      "outputs": []
    },
    {
      "cell_type": "markdown",
      "source": "**Q2** : Utilisez la fonction `help` pour accéder à la chaîne de documentation de cette fonction.",
      "metadata": {
        "id": "G91FljqJtLXV"
      }
    },
    {
      "cell_type": "code",
      "source": "# à vous de jouer !\nhelp(moyenne)\n",
      "metadata": {
        "id": "pjFeagOatLXV"
      },
      "execution_count": null,
      "outputs": []
    },
    {
      "cell_type": "markdown",
      "source": "# 🟥 Programmation défensive\n\n## 🐍 Exercice 3\n\nOn considère la fonction `indice_maxi_tab(T)` suivante. À l'aide de la construction `assert`, proposez un test vérifiant si la précondition sur le tableau `T` est validée (*on ne cherchera pas à écrire la fonction*).",
      "metadata": {
        "id": "KdSb9o6wtLXV"
      }
    },
    {
      "cell_type": "code",
      "source": "def indice_maxi_tab(T):\n    \"\"\"\n    Renvoie l'indice de la première occurence de la valeur\n    maximale du tableau T. T est supposé non vide.\n    \"\"\"\n    assert type(T) = list and len(T) >0, \"T doit etre un tableau non vide\"\n    # TEST A ECRIRE ICI\n",
      "metadata": {
        "id": "Klk3T4SJtLXW"
      },
      "execution_count": null,
      "outputs": []
    },
    {
      "cell_type": "markdown",
      "source": "## 🐍 Exercice 4\n\nOn considère la fonction `quotient(a, b)` suivante. À l'aide de la construction `assert`, proposez un test vérifiant si les préconditions sont validées.\n",
      "metadata": {
        "id": "NsHDXOfbtLXW"
      }
    },
    {
      "cell_type": "code",
      "source": "def quotient(a, b):\n    '''\n    Renvoie la valeur du quotient de a par b, b étant non nul.\n    '''\n    assert (type(a) == int or type(a) == float) and type(b) == int or (type(b) == float) and b != 0, \"a et b doivent etre des nombre et b doit etre diferent de 0\"\n    # TEST A ECRIRE ICI\n",
      "metadata": {
        "id": "NG5OBDXDtLXW",
        "trusted": true
      },
      "execution_count": 4,
      "outputs": [
        {
          "name": "stdout",
          "text": "<class 'list'>\n",
          "output_type": "stream"
        }
      ]
    },
    {
      "cell_type": "markdown",
      "source": "# 🟥 Tester ses programmes\n\n## 🐍 Exercice 5\n\n\n**Q1** : En utilisant `assert`, donnez un jeu de tests de qualité pour la fonction `multiplication` suivante.\n\n**Q2** : Vérifiez ensuite que les tests passent avec succès.",
      "metadata": {
        "id": "th-Kejq1tLXX"
      }
    },
    {
      "cell_type": "code",
      "source": "def multiplication(a, b):\n    '''\n    Renvoie le produit de a par b,\n    où a et b sont deux nombres quelconques.\n    '''\n    return a * b\nassert multiplication(5,5) == 25\nassert multiplication(2.5,1) == 2.5\nassert multiplication(0,1) == 0\nassert multiplication(1,2.5) == 2.5\nprint(\"win\")\n# jeu de tests à écrire ici\n",
      "metadata": {
        "id": "PFxJcBNotLXX",
        "trusted": true
      },
      "execution_count": 6,
      "outputs": []
    },
    {
      "cell_type": "markdown",
      "source": "## 🐍 Exercice 6\n\n\n**Q1** : En utilisant `assert`, donnez un jeu de tests de qualité pour la fonction `somme` suivante.\n\n**Q2** : Vérifiez ensuite que les tests passent avec succès.\n\n```python\ndef somme(t):\n    '''\n    Renvoie la somme des éléments du tableau t,\n    t étant un tableau de nombres\n    '''\n    s = 0\n    for i in range(len(t)):\n        s = s + t[i]\n    return s\n```",
      "metadata": {
        "id": "sXwgk7MBtLXX",
        "tags": []
      }
    },
    {
      "cell_type": "markdown",
      "source": "",
      "metadata": {
        "id": "40yxOiF-3B8X"
      }
    },
    {
      "cell_type": "code",
      "source": "# à vous de jouer !\ndef somme(t):\n    '''\n    Renvoie la somme des éléments du tableau t,\n    t étant un tableau de nombres\n    '''\n    s = 0\n    for i in range(len(t)):\n        s = s + t[i]\n    return s\nassert somme([1]) == 1\nassert somme([1,2.5]) == 3.5\nassert somme([0.1,1]) == 1.1\nassert somme([1,-4]) == -3\nassert somme([1,1,1,1]) == 4\n",
      "metadata": {
        "id": "aKd0ZiZ-tLXX",
        "trusted": true
      },
      "execution_count": 9,
      "outputs": []
    },
    {
      "cell_type": "markdown",
      "source": "## 🐍 Exercice 7\n\nOn cherche à écrire une fonction `est_croissant(t)` qui renvoie `True` si le tableau `t` est trié dans l'ordre croissant et `False` sinon.\n\n**Q1** : Complétez la fonction `tests_est_croissante` avec un jeu de tests de qualité pour la fonction `est_croissante` (*on ne cherchera pas à écrire le code de la fonction*).\n\n> <span style=\"font-size:1.5em\">📣</span> Ici, on écrit tous les tests dans une fonction, qu'il suffira d'appeler par la suite pour lancer les tests",
      "metadata": {
        "id": "9IAWq4P4tLXX"
      }
    },
    {
      "cell_type": "code",
      "source": "# à vous de jouer !\n\ndef tests_est_croissante():\n    \"\"\"\n    Fonction lançant des tests pour la fonction est_croissante\n    \"\"\"\n    # jeu de tests à écrire ici\nassert tests_est_croissante([12,13]) == True\nassert tests_est_croissante([14,13]) == False\nassert tests_est_croissante([12.5,13]) == True\nassert tests_est_croissante([12,13,14]) == True\nassert tests_est_croissante([-12,13]) == True\n",
      "metadata": {
        "id": "Zq6KPO6XtLXY"
      },
      "execution_count": null,
      "outputs": []
    },
    {
      "cell_type": "markdown",
      "source": "**Q2** : Un elève propose le code suivant pour la fonction `est_croissant(t)` de l'exercice précédent. Faites passer vos tests à cette fonction.\n",
      "metadata": {
        "id": "pWD0ioIvtLXY"
      }
    },
    {
      "cell_type": "code",
      "source": "def est_croissant(t):\n    \"\"\"\n    Renvoie True si le tableau t est trié dans l'ordre croissant,\n    et False sinon.\n    \"\"\"\n    for i in range(len(t)):\n        if t[i+1] > t[i]:\n            return False\n    return True\nassert est_croissant([12,13]) == True\nassert est_croissant([14,13]) == False\nassert est_croissant([12.5,13]) == True\nassert est_croissant([12,13,14]) == True\nassert est_croissant([-12,13]) == True",
      "metadata": {
        "id": "sIj1-GFktLXY",
        "trusted": true
      },
      "execution_count": 11,
      "outputs": [
        {
          "ename": "<class 'AssertionError'>",
          "evalue": "",
          "traceback": [
            "\u001b[0;31m---------------------------------------------------------------------------\u001b[0m",
            "\u001b[0;31mAssertionError\u001b[0m                            Traceback (most recent call last)",
            "Cell \u001b[0;32mIn[11], line 10\u001b[0m\n\u001b[1;32m      8\u001b[0m             \u001b[38;5;28;01mreturn\u001b[39;00m \u001b[38;5;28;01mFalse\u001b[39;00m\n\u001b[1;32m      9\u001b[0m     \u001b[38;5;28;01mreturn\u001b[39;00m \u001b[38;5;28;01mTrue\u001b[39;00m\n\u001b[0;32m---> 10\u001b[0m \u001b[38;5;28;01massert\u001b[39;00m est_croissant([\u001b[38;5;241m12\u001b[39m,\u001b[38;5;241m13\u001b[39m]) \u001b[38;5;241m==\u001b[39m \u001b[38;5;28;01mTrue\u001b[39;00m\n\u001b[1;32m     11\u001b[0m \u001b[38;5;28;01massert\u001b[39;00m est_croissant([\u001b[38;5;241m14\u001b[39m,\u001b[38;5;241m13\u001b[39m]) \u001b[38;5;241m==\u001b[39m \u001b[38;5;28;01mFalse\u001b[39;00m\n\u001b[1;32m     12\u001b[0m \u001b[38;5;28;01massert\u001b[39;00m est_croissant([\u001b[38;5;241m12.5\u001b[39m,\u001b[38;5;241m13\u001b[39m]) \u001b[38;5;241m==\u001b[39m \u001b[38;5;28;01mTrue\u001b[39;00m\n",
            "\u001b[0;31mAssertionError\u001b[0m: "
          ],
          "output_type": "error"
        }
      ]
    },
    {
      "cell_type": "markdown",
      "source": "**Q3** : Trouvez l'erreur, soit en affichant l'état de certaines variables à des points stratégiques, soit en utilisant l'outil [Python tutor](https://pythontutor.com/python-debugger.html#mode=edit). Quelle est cette erreur ?\n\n",
      "metadata": {
        "id": "kmm8ClwPtLXY"
      }
    },
    {
      "cell_type": "raw",
      "source": "Réponse :\n\n    \ndeux erreur : len faut faire -1 pour eviter de comparer le 1er terme et le dernier terme et il faut inversé le signe > par <",
      "metadata": {
        "id": "eIv1-XQdtLXY"
      }
    },
    {
      "cell_type": "markdown",
      "source": "**Q4** : Corrigez alors le code de la fonction et vérifiez que tous les tests sont validés.",
      "metadata": {
        "id": "-L62LB19tLXY"
      }
    },
    {
      "cell_type": "code",
      "source": "# à vous de jouer !\ndef est_croissant(t):\n    \"\"\"\n    Renvoie True si le tableau t est trié dans l'ordre croissant,\n    et False sinon.\n    \"\"\"\n    for i in range(len(t)-1):\n        if t[i+1] < t[i]:\n            return False\n    return True",
      "metadata": {
        "id": "xEmJJbHBtLXZ"
      },
      "execution_count": null,
      "outputs": []
    },
    {
      "cell_type": "markdown",
      "source": "## 🐍 Exercice 8\n\nOn veut écrire une fonction `annee_naissance(prenom, tab)` qui renvoie l'année de naissance de la personne ayant pour prénom `prenom` dans le tableau `tab`, dont les éléments sont des tuples de la forme (prénom, année de naissance, ville de naissance). Si `prenom` n'apparaît pas dans `tab` alors la fonction doit renvoyer `None`.\n\nExemple :\n\n```python\n>>> tab = [('Lucas', 2002, 'Marseille'), ('Élodie', 2003, 'Angers'), ('Marie', 2001, 'Angers'), ('Jade', 2007, 'New York')]\n>>> annee_naissance('Marie', tab)\n2001\n```",
      "metadata": {
        "id": "O8mpgLsYtLXZ"
      }
    },
    {
      "cell_type": "markdown",
      "source": "**Q1** : Proposez une fonction `test_annee_naissance` qui permettra de tester la fonction `annee_naissance` grâce à un jeu de tests bien choisi.",
      "metadata": {
        "id": "qfK5fzOVtLXZ"
      }
    },
    {
      "cell_type": "code",
      "source": "# à vous de jouer !\ndef test_annee_naissance():\n    tab = [('Lucas', 2002, 'Marseille'), ('Élodie', 2003, 'Angers'), ('Marie', 2001, 'Angers'), ('Jade', 2007, 'New York')]\n    assert annee_naissance('Marie',tab) == 2001\n    assert annee_naissance('Jade',tab) == 2007\n    assert annee_naissance(\"\",tab) == None",
      "metadata": {
        "id": "aLZy5wPstLXZ",
        "trusted": true
      },
      "execution_count": 16,
      "outputs": []
    },
    {
      "cell_type": "markdown",
      "source": "**Q2** : Écrivez la fonction `annee_naissance(prenom, tab)` et vérifiez qu'elle passe tous les tests.",
      "metadata": {
        "id": "yXwIQzz8tLXa"
      }
    },
    {
      "cell_type": "code",
      "source": "# à vous de jouer !\ndef annee_naissance(prenom,tab):\n    for i in tab:\n        if i[0] == prenom:\n            return i[1]\n    return\ndef test_annee_naissance():\n    tab = [('Lucas', 2002, 'Marseille'), ('Élodie', 2003, 'Angers'), ('Marie', 2001, 'Angers'), ('Jade', 2007, 'New York')]\n    assert annee_naissance('Marie',tab) == 2001\n    assert annee_naissance('Jade',tab) == 2007 \n    assert annee_naissance(\"\",tab) == None\ntest_annee_naissance()\n\n",
      "metadata": {
        "id": "Vfh9M-uHtLXa",
        "trusted": true
      },
      "execution_count": 15,
      "outputs": []
    },
    {
      "cell_type": "markdown",
      "source": "## 🐍 Exercice 9\n\nOn veut écrire une fonction `meilleure_note` qui prend en paramètre un dictionnaire `resultats` dans lequel les clés sont des prénoms d'élèves et leurs valeurs associées sont des notes à un devoir, et qui renvoie la meilleure note à ce devoir.\n\nExemple :\n\n```python\n>>> meilleure_note({'Marie': 15, 'Laurent': 12, 'Julie': 18, 'Antoine': 17})\n18\n```\n\n**Q1** : Écrivez la chaîne de documentation de cette fonction `meilleure_note` pour y intégrer directement les tests.",
      "metadata": {
        "id": "fFzA0QTstLXa"
      }
    },
    {
      "cell_type": "code",
      "source": "# à vous de jouer !\ndef meilleure_note(dic):\n    '''\n    renvoie la meilleur note du dictionnaire\n    les cle son str et les items son des int\n    '''\n    assert type(dic) == dict",
      "metadata": {
        "id": "qXHTCkxUtLXa",
        "trusted": true
      },
      "execution_count": 17,
      "outputs": [
        {
          "name": "stdout",
          "text": "<class 'dict'>\n",
          "output_type": "stream"
        }
      ]
    },
    {
      "cell_type": "markdown",
      "source": "**Q2** : Écrivez le code de cette fonction.\n\n**Q3** : Utilisez le module `doctest` pour vérifier les tests intégrés à la chaîne de documentation. Modifiez la fonction si les tests échouent.",
      "metadata": {
        "id": "OcebVU6dtLXa"
      }
    },
    {
      "cell_type": "code",
      "source": "# à vous de jouer !\nimport doctest\na = {'Marie': 15, 'Laurent': 12, 'Julie': 18, 'Antoine': 17}\ndef meilleure_note(dic):\n    '''\n    renvoie la meilleur note du dictionnaire\n    les cle son str et les items son des int\n    \n    >>>meilleure_note({'Marie': 15, 'Laurent': 12, 'Julie': 18, 'Antoine': 17}):\n    18\n    \n    >>>meilleure_note({'Marie': 50, 'Laurent': 12, 'Julie': 18, 'Antoine': 17}):\n    50\n    \n    >>>meilleure_note({'Marie': 0, 'Laurent': 0, 'Julie': 0, 'Antoine': 0}):\n    0\n    >>>meilleure_note({'Marie': 15}):\n    15\n    >>>meilleure_note({'Marie': 0}):\n    0\n    '''\n    best = \"\"\n    for y in a.values():\n        if type(best) ==str:\n            best = y\n        elif y>best:\n            best = y\n    return best\nprint(doctest.meilleure_note())\nprint(meilleure_note(a))\n        \n",
      "metadata": {
        "id": "1toYlgoAtLXb",
        "trusted": true
      },
      "execution_count": 28,
      "outputs": [
        {
          "name": "stdout",
          "text": "18\n",
          "output_type": "stream"
        }
      ]
    },
    {
      "cell_type": "markdown",
      "source": "---\n\n**Références :**\n- Documents ressources du DIU EIL Nantes, C. DECLERCQ.\n- Numérique et Sciences Informatiques, 1re, T. BALABONSKI, S. CONCHON, J.-C. FILLIATRE, K. NGUYEN, éditions ELLIPSES : [Site du livre](https://www.nsi-premiere.fr/)\n-Germain BECKER & Sébastien POINT, Lycée Mounier, ANGERS",
      "metadata": {
        "id": "5O7H9-ektLXb"
      }
    },
    {
      "cell_type": "markdown",
      "source": "| <span style='color:Blue'> L.H & E.S |  | |   | |     |<span style='color:Blue'> NSI Terminale | |   | ||<span style='color:Blue'> Lycée Ozanam (Lille)|\n| --- | --- |--- |--- |--- |--- | --- | --- |--- |--- | --- | --- |",
      "metadata": {
        "id": "3AMQDjOf4CpJ"
      }
    }
  ]
}