{
  "metadata": {
    "kernelspec": {
      "name": "python",
      "display_name": "Python (Pyodide)",
      "language": "python"
    },
    "language_info": {
      "codemirror_mode": {
        "name": "python",
        "version": 3
      },
      "file_extension": ".py",
      "mimetype": "text/x-python",
      "name": "python",
      "nbconvert_exporter": "python",
      "pygments_lexer": "ipython3",
      "version": "3.8"
    }
  },
  "nbformat_minor": 5,
  "nbformat": 4,
  "cells": [
    {
      "cell_type": "markdown",
      "source": "---",
      "metadata": {},
      "id": "1443e017"
    },
    {
      "cell_type": "markdown",
      "source": "<img src=\"https://github.com/Lionel-Helin-Oza/Images_Notebook/blob/main/NSI-Image.png?raw=true\" alt=\"drawing\" width=\"350\">",
      "metadata": {},
      "id": "d15d6e61"
    },
    {
      "cell_type": "markdown",
      "source": "# TP2.3 - Les Arbres - Implémentation des arbres binaires\n\nDurée de l'activité proposé : 4h",
      "metadata": {},
      "id": "aff477f4"
    },
    {
      "cell_type": "markdown",
      "source": "<img src=\"https://github.com/Lionel-Helin-Oza/TP2.3-Les-Arbres-Impl-mentation-/blob/main/Image1.png?raw=true\" width=\"350\">",
      "metadata": {},
      "id": "d3651f9a"
    },
    {
      "cell_type": "markdown",
      "source": "---",
      "metadata": {},
      "id": "5032505f"
    },
    {
      "cell_type": "markdown",
      "source": "\n## Rappel de Cours : c’est quoi un arbre ?\n",
      "metadata": {},
      "id": "746a3eef"
    },
    {
      "cell_type": "markdown",
      "source": "---",
      "metadata": {},
      "id": "9f2c3b8b"
    },
    {
      "cell_type": "markdown",
      "source": "## <span style='color:Red'> *1- Quelques généralités*   \n\n\nLes arbres sont des types abstraits très utilisés en informatique, notamment quand on a besoin d’une structure hiérarchique des données. \n\n*Exemples :*\n\n- arborescence des fichiers et dossiers dans les systèmes de fichiers des OS,\n\n- expressions arithmétiques : elles peuvent être représentées par des arbres étiquetés par des opérateurs, des constantes et des variables. La structure de l’arbre rend compte de la priorité des opérateurs et rend inutile tout parenthésage.\n\n- Théorie des jeux : certaines stratégies nécessitent l’exploration (partielle) d’arbres de jeu (voir morpion ou puissance 4)\n\nLa **terminologie** est ici très importante : racine, feuille, nœud, père, fils, hauteur, taille… \nReportez vous à votre cours pour bien comprendre ces notions, qui sont à assimiler avant de comprendre comment implémenter cette nouvelle structure de donnée dans un langage de programmation. \n\n\n",
      "metadata": {},
      "id": "57a1ad2c"
    },
    {
      "cell_type": "markdown",
      "source": "## <span style='color:Red'> *2- Les arbres binaires*   \n    \nL’étude de ces structures de données, en apparence assez simple, peut vite devenir complexe. Nous allons nous intéresser aux **Arbres Binaires** : ces arbres sont des cas particuliers d’arbres où chaque nœud possède au maximum deux fils (définition à savoir…). \n\nAttention, les fils d’un nœud sont classés : un fils droit et/ou un fils gauche. Ils ne sont pas intervertibles !\n\nOn distingue plusieurs types d’arbre binaire :\n\n+ Un arbre binaire **filiforme** ou dégénéré est un arbre dans lequel tous les nœuds internes n’ont qu’un seul fils. (Un arbre filiforme ne possède donc qu’une unique feuille.)\n    ",
      "metadata": {},
      "id": "1a0e8bd3"
    },
    {
      "cell_type": "markdown",
      "source": "<img src=\"https://github.com/Lionel-Helin-Oza/TP2.3-Les-Arbres-Impl-mentation-/blob/main/Image2.png?raw=true\" width=\"150\">",
      "metadata": {},
      "id": "3c0ebf1f"
    },
    {
      "cell_type": "markdown",
      "source": "+ Un arbre binaire **localement complet** ou arbre binaire strict est un arbre dont tous les nœuds internes possèdent exactement deux fils. \n(Autrement dit, un arbre binaire localement complet est un arbre dont chaque nœud possède zéro ou 2 fils. L’arbre vide n’est pas localement complet.)\n",
      "metadata": {},
      "id": "3c5c429e"
    },
    {
      "cell_type": "markdown",
      "source": "<img src=\"https://github.com/Lionel-Helin-Oza/TP2.3-Les-Arbres-Impl-mentation-/blob/main/Image3.png?raw=true\" width=\"200\">",
      "metadata": {},
      "id": "a41bbc0d"
    },
    {
      "cell_type": "markdown",
      "source": "+ Un arbre binaire **complet** est un arbre binaire localement complet dans lequel toutes les feuilles sont à la même profondeur. (Il s’agit d’un arbre dont tous les niveaux sont remplis.)",
      "metadata": {},
      "id": "07e7b483"
    },
    {
      "cell_type": "markdown",
      "source": "<img src=\"https://github.com/Lionel-Helin-Oza/TP2.3-Les-Arbres-Impl-mentation-/blob/main/Image4.png?raw=true\" width=\"300\">",
      "metadata": {},
      "id": "74d3ce14"
    },
    {
      "cell_type": "markdown",
      "source": "+ Un arbre binaire **parfait** est un arbre dans lequel tous les niveaux sont remplis à l’exception éventuelle du dernier, et dans ce cas les feuilles du dernier niveau sont alignées à gauche.",
      "metadata": {},
      "id": "37ea181c"
    },
    {
      "cell_type": "markdown",
      "source": "<img src=\"https://github.com/Lionel-Helin-Oza/TP2.3-Les-Arbres-Impl-mentation-/blob/main/Image5.png?raw=true\" width=\"350\">",
      "metadata": {},
      "id": "13afa228"
    },
    {
      "cell_type": "markdown",
      "source": "+ Différence entre arbre binaire et **arbre binaire de recherche**.\n\nUn arbre de recherche binaire est un type de structure de données d'arbre binaire dans lequel les nœuds sont rangés dans l'ordre, d'où le nom de «arbre binaire ordonné». \n\nC'est une structure de données basée sur des nœuds qui fournit un moyen efficace et rapide de trier, de récupérer et de rechercher des données. Pour chaque nœud, les éléments du sous-arbre de gauche doivent être inférieurs ou égaux à la clé de son nœud parent (LP). Il ne devrait y avoir aucune clé en double. **En termes simples, il s'agit d'un type particulier de structure de données d'arborescence binaire qui stocke et gère efficacement les éléments en mémoire..**\n\n*Exemple d’arbre binaire de recherche :*\n",
      "metadata": {},
      "id": "151b4c02"
    },
    {
      "cell_type": "markdown",
      "source": "<img src=\"https://github.com/Lionel-Helin-Oza/TP2.3-Les-Arbres-Impl-mentation-/blob/main/Image6.png?raw=true\" width=\"300\">",
      "metadata": {},
      "id": "9689cab2"
    },
    {
      "cell_type": "markdown",
      "source": "## <span style='color:Red'> *3- Comment implémenter un arbre binaire avec Python ?*   ",
      "metadata": {},
      "id": "48098c62"
    },
    {
      "cell_type": "markdown",
      "source": "Nous avons vu plusieurs « outils » ou structure de données nous permettant d’utiliser ce type de données. Par exemple, nous pouvons imaginer qu’un arbre est un **dictionnaire** dans lequel chaque clé représente un nœud de l’arbre, et chaque valeur associée à ces clefs représente les fils gauche et droit du nœud. Cette implémentation vous a été présenté en cours.\n\nMais nous avons maintenant un autre « outil » nous permettant de créer n’importe quel objet : **la programmation orientée objet (POO)**. Voyons comment. \n\nDe plus si on regarde de plus prés un arbre, on peut voir que le fils de chaque nœud est lui-même la racine d’un arbre. Autrement dit, un arbre est composé d’arbres. On a donc une sorte de récursivité dans l’implémentation des arbres.\n\nNous allons donc manipuler deux paradigmes dans ce chapitre :\n- le paradigme « programmation orientée objet »\n- le paradigme « programmation récursive ».\n\nDe quoi avons-nous besoin dans chaque élément de cet arbre, dans chaque noeud. Après une intense réflexion, nous pouvons dire que pour des arbres binaires, il nous faut :\n\n+ Un espace pour stocker une donnée \n+ Un connecteur pour \"associer\" un fils gauche\n+ Un connecteur pour \"associer\" un fils droit\n\nAinsi notre classe arbre contiendra 3 variables (appelées attributs lorsqu'elles sont intégrées à une classe). En ce qui concerne les noms de ces 3 attributs, nous les appellerons contenu, filsGauche et filsDroit. \nEn ce qui concerne l'initialisation des ces attributs, nous mettrons :\n+ contenu à 0\n+ filsGauche et filsDroit à None car il n'y aura pas de fils lors de la création.\n\nVoici donc l'implémentation de notre classe :\n",
      "metadata": {},
      "id": "7b3138e9"
    },
    {
      "cell_type": "code",
      "source": "class ArbreBinaire:\n  def __init__(self, valeur):   \n        self.contenu = valeur \n        self.filsGauche = None        \n        self.filsDroit = None \n",
      "metadata": {},
      "execution_count": 1,
      "outputs": [],
      "id": "c29774cb"
    },
    {
      "cell_type": "markdown",
      "source": "---",
      "metadata": {},
      "id": "1451db39"
    },
    {
      "cell_type": "markdown",
      "source": "\n## Exercices",
      "metadata": {},
      "id": "bda4d361"
    },
    {
      "cell_type": "markdown",
      "source": "A partir de cette définition, nous allons vous demander d'écrire certaine méthode ou fonction nous permettant de manipuler les arbres binaires.\n\n**Pour chacun des exercices suivants, n'oubliez pas :**\n\nPS 1 : Tout se qui peut aider à la compréhension d’un programme (commentaire) est le bienvenue.\n\nPS 2 : Merci de laisser dans votre programme ce qui vous a permis de le tester et de le valider , même sous forme de commentaire (création des objets et test avec print par exemple)   \n",
      "metadata": {},
      "id": "987d0c92"
    },
    {
      "cell_type": "markdown",
      "source": "---",
      "metadata": {},
      "id": "c8a38d5c"
    },
    {
      "cell_type": "markdown",
      "source": "### Exercice 1 (Ajout de fils) \n\nOn considère la définition de la classe définie précédemment. \n\nMaintenant de quoi avons-nous besoin comme fonctionnalités ? Assez rapidement nous trouvons au minimum\n\n•\t Une méthode permettant d’ajouter un fils gauche\n•\t Une méthode permettant d’ajouter un fils droit\n\nChacune de ces 2 méthodes créera un nouvel ArbreBinaire, et le stockera dans la donnée correspondante (filsGauche ou filsDroit). En outre, nous avons besoin de la valeur du contenu à donner à ce fils. \nCes 2 méthodes s'appellerons donc ajoutFilsGauche() et ajoutFilsDroit()\n\nAttention : lors de la création d'un fils (gauche ou droit) il faut vérifier qu'il n'y en ait pas déjà un ! Auquel il serait détruit (et donc tout le sous-arbre dont il est racine)\n\nDans le cas où il y aurait déjà un fils, on ne vas s'embêter, on va tout simplement lui \"déléguer\" la mission d'ajout. Ainsi, c'est la magie de la récursivité, on peut demander une insertion sur un nœud, et qu'au final cela aboutisse à la création d'un fils bien plus bas dans l'arbre. \n\n",
      "metadata": {},
      "id": "1ad3ad28"
    },
    {
      "cell_type": "markdown",
      "source": "***Compléter la définition ci-dessous de la classe ArbreBinaire avec les deux méthodes :*** \n+ ajoutFilsGauche()\n\n+ ajoutFilsDroit()\n",
      "metadata": {},
      "id": "485b9c81"
    },
    {
      "cell_type": "code",
      "source": "class ArbreBinaire:\n  def __init__(self, valeur):   \n        self.contenu = valeur \n        self.filsGauche = None        \n        self.filsDroit = None \n\n\n  def ajoutFilsGauche(self, valeur):\n      if self.filsGauche==None:\n        self.filsGauche= ArbreBinaire(valeur) \n      else :\n        self.filsGauche.ajoutFilsGauche(valeur)\n\n  def ajoutFilsDroit(self, valeur):\n      if self.filsDroit==None:\n        self.filsDroit = ArbreBinaire(valeur)\n        \n      else :\n        self.filsDroit.ajoutFilsDroit(valeur)\n        \narbuste = ArbreBinaire(\"racine\")\narbuste.ajoutFilsGauche(\"1er etage\")\narbuste.ajoutFilsGauche(\"2em etage\")\nprint(arbuste.filsGauche.filsGauche.contenu)\nprint(arbuste.filsGauche.contenu)\nprint(arbuste.contenu)\n\n\n",
      "metadata": {
        "scrolled": true,
        "trusted": true
      },
      "execution_count": 13,
      "outputs": [
        {
          "name": "stdout",
          "text": "2em etage\n1er etage\nracine\n",
          "output_type": "stream"
        }
      ],
      "id": "ac01d34b"
    },
    {
      "cell_type": "markdown",
      "source": "---",
      "metadata": {},
      "id": "34f975ed"
    },
    {
      "cell_type": "markdown",
      "source": "### Exercice 2 (Affichage) \n\n\nMaintenant que nous avons créé notre objet, il est quand même intéressant de mettre en place une méthode pour afficher cette arbre. Pour cela, nous mettrons en place la méthode `def __str__(self):`\n\n***Définir cette méthode et compléter la classe ArbreBinaire avec celle-ci***\n\n*Exemple d’affichage :* ",
      "metadata": {},
      "id": "9529444f"
    },
    {
      "cell_type": "code",
      "source": "# Je crée un arbre qui contient la valeur 10\nmonArbre = ArbreBinaire(10)\nprint(monArbre)      \n\n# affiche : [ Contenu : 10 / Fils Gauche : None / Fils Droit : None ] \n",
      "metadata": {},
      "execution_count": null,
      "outputs": [],
      "id": "76295eff"
    },
    {
      "cell_type": "markdown",
      "source": "***Votre réponse ci-dessous :***",
      "metadata": {},
      "id": "44e3ef0c"
    },
    {
      "cell_type": "code",
      "source": "# Votre réponse ci-dessous :\n\n# méthode à rajouter à l'ensemble de la classe - copier coller l'écriture de la classe de la question précédente\n\nclass ArbreBinaire:\n  def __init__(self, valeur):   \n        self.contenu = valeur \n        self.filsGauche = None        \n        self.filsDroit = None \n  def ajoutFilsGauche(self, valeur):\n      if self.filsGauche==None:\n        self.filsGauche= ArbreBinaire(valeur) \n      else :\n        self.filsGauche.ajoutFilsGauche(valeur)\n  def ajoutFilsDroit(self, valeur):\n      if self.filsDroit==None:\n        self.filsDroit = ArbreBinaire(valeur)      \n      else :\n        self.filsDroit.ajoutFilsDroit(valeur)\n  def __str__(self):\n    return(f\"[contenu : {self.contenu} / Fils Gauche : {self.filsGauche} / Fils droit : {self.filsDroit}]\")\n\narbuste = ArbreBinaire(10)\narbuste.ajoutFilsGauche(5)\nprint(arbuste)\n    \n",
      "metadata": {
        "trusted": true
      },
      "execution_count": 16,
      "outputs": [
        {
          "name": "stdout",
          "text": "[contenu : 10 / Fils Gauche : [contenu : 5 / Fils Gauche : None / Fils droit : None] / Fils droit : None]\n",
          "output_type": "stream"
        }
      ],
      "id": "b2392051"
    },
    {
      "cell_type": "markdown",
      "source": "---",
      "metadata": {},
      "id": "e68c6656"
    },
    {
      "cell_type": "markdown",
      "source": "### Exercice 3 (Ajout d’un contenu) ",
      "metadata": {},
      "id": "833e755f"
    },
    {
      "cell_type": "markdown",
      "source": "\nNous allons nous intéresser aux arbres binaires de recherche (voir ci-dessus). Ils permettent de stocker des nombres en maintenant une organisation précise. Nous pouvons ajouter des valeurs à un arbre.  \n\nVoici le fonctionnement attendu : \n\nLorsque l'on ajoute une nouvelle valeur à l'arbre, par sa racine, voici ce qu'il fait :\n\n+ Si le nœud courant contient la valeur à stocker, c'est que c'est un doublon...On sort en considérant le travail comme effectué.\n+ Sinon, si la valeur à stoker est < que la valeur stockée alors si pas de fils gauche, on crée un fils gauche contenant cette valeur, ou on relance l'ajout de la donnée à stocker sur le fils gauche s'il existe \n+ Sinon, si la valeur à stoker est > que la valeur stockée : alors : si pas de fils droit, on crée un fils droit contenant cette valeur, ou on relance l'ajout de la donnée à stocker sur le fils droit s'il existe.\n\n***Définir la méthode ajoutContenu(self,valeur) :***\n",
      "metadata": {},
      "id": "a92a575b"
    },
    {
      "cell_type": "markdown",
      "source": "Vous pourrez tester la définition de votre objet avec les affichages suivants : \n\n+ Je crée un arbre qui contient la valeur 10\n\n`monArbre = ArbreBinaire(10)`\n\n`print(monArbre)`  \n\nRésultat : [ Contenu : 10 / Fils Gauche : None / Fils Droit : None ] \n\n\n+ J'ajoute la valeur 5... Elle devrait être confiée au fils gauche\n\n`monArbre.ajoutContenu(5)`\n\n`print(monArbre)`\n\nRésultat : [ Contenu : 10 / Fils Gauche : [ Contenu : 5 / Fils Gauche : None / Fils Droit : None ] / Fils Droit : None ] \n\n\n+ J'ajoute la valeur 7... Elle devrait être confiée au fils droit, du fils gauche (plus petit que 10 donc gauche mais plus grand que 5 donc petit fils droit)\n\n`monArbre.ajoutContenu(7)`\n\n`print(monArbre)`\n\nRésultat : [ Contenu : 10 / Fils Gauche : [ Contenu : 5 / Fils Gauche : None / Fils Droit : [ Contenu : 7 / Fils Gauche : None / Fils Droit : None ] ] / Fils Droit : None ] \n\n\n+ J'ajoute à nouveau le 5... Ca ne devrait rien changer\n\n`monArbre.ajoutContenu(5)`\n\n`print(monArbre)`\n\nRésultat : [ Contenu : 10 / Fils Gauche : [ Contenu : 5 / Fils Gauche : None / Fils Droit : [ Contenu : 7 / Fils Gauche : None / Fils Droit : None ] ] / Fils Droit : None ] \n\n\n+ J'ajoute la valeur 12... Ca devrait créer un fils droit\n\n`monArbre.ajoutContenu(12)`\n\n`print(monArbre)`\n\nRésultat : [ Contenu : 10 / Fils Gauche : [ Contenu : 5 / Fils Gauche : None / Fils Droit : [ Contenu : 7 / Fils Gauche : None / Fils Droit : None ] ] / Fils Droit : [ Contenu : 12 / Fils Gauche : None / Fils Droit : None ] ] \n\n",
      "metadata": {},
      "id": "10d50ce4"
    },
    {
      "cell_type": "markdown",
      "source": "***Votre réponse ci-dessous :***",
      "metadata": {},
      "id": "c1ed91d7"
    },
    {
      "cell_type": "code",
      "source": "# Votre réponse ci-dessous :\n\n# méthode à rajouter à l'ensemble de la classe - copier coller l'écriture de la classe de la question précédente\nclass ArbreBinaire:\n  def __init__(self, valeur):   \n        self.contenu = valeur \n        self.filsGauche = None        \n        self.filsDroit = None \n  def ajoutFilsGauche(self, valeur):\n      if self.filsGauche==None:\n        self.filsGauche= ArbreBinaire(valeur) \n      else :\n        self.filsGauche.ajoutFilsGauche(valeur)\n  def ajoutFilsDroit(self, valeur):\n      if self.filsDroit==None:\n        self.filsDroit = ArbreBinaire(valeur)      \n      else :\n        self.filsDroit.ajoutFilsDroit(valeur)\n  def __str__(self):\n    return(f\"[contenu : {self.contenu} / Fils Gauche : {self.filsGauche} / Fils droit : {self.filsDroit}]\")\n  def ajoutContenu(self,valeur):\n        if self.contenu == valeur:\n            return\n        elif valeur <self.contenu:\n            if self.filsGauche == None:\n                self.filsGauche = ArbreBinaire(valeur)\n            else:\n                self.filsGauche.ajoutContenu(valeur)\n        elif valeur >self.contenu:\n            if self.filsDroit == None:\n                self.filsDroit = ArbreBinaire(valeur)\n            else:\n                self.filsDroit.ajoutContenu(valeur)\n\nmonArbre = ArbreBinaire(10)\nmonArbre.ajoutContenu(5)\nmonArbre.ajoutContenu(7)\nmonArbre.ajoutContenu(5)\nmonArbre.ajoutContenu(12)\nprint(monArbre)\n",
      "metadata": {
        "trusted": true
      },
      "execution_count": 2,
      "outputs": [
        {
          "name": "stdout",
          "text": "[contenu : 10 / Fils Gauche : [contenu : 5 / Fils Gauche : None / Fils droit : [contenu : 7 / Fils Gauche : None / Fils droit : None]] / Fils droit : [contenu : 12 / Fils Gauche : None / Fils droit : None]]\n",
          "output_type": "stream"
        }
      ],
      "id": "7d3dde24"
    },
    {
      "cell_type": "markdown",
      "source": "---",
      "metadata": {},
      "id": "7202a1db"
    },
    {
      "cell_type": "markdown",
      "source": "### Exercice 4 (Calcul de la taille d’un arbre) ",
      "metadata": {},
      "id": "c4dd0698"
    },
    {
      "cell_type": "markdown",
      "source": "**1 - Écrire une fonction ` def taille(arbre)` permettant de donner la taille d’un arbre binaire.** Utilisez la récursivité. \n\n*Rappel : la taille d’un arbre est le nombre de nœuds de cette arbre.*\n\nUn peu d’aide : Pour calculer la hauteur d’un arbre, nous pouvons utilisez l’algorithme suivant : \n+ Si il y a un fils Gauche, on relance la fonction taille sur le sous-arbre Gauche (récursion) pour récupérer sa taille\n+ Si il y a un fils Droit, on relance la fonction taille sur le sous-arbre Droit (récursion) pour récupérer sa taille\n+ Retourner la somme des tailles des sous-arbres (si il existent) + 1 (taille du nœud courant)\n",
      "metadata": {},
      "id": "a3658865"
    },
    {
      "cell_type": "markdown",
      "source": "***Votre réponse ci-dessous :***",
      "metadata": {},
      "id": "958b1c60"
    },
    {
      "cell_type": "code",
      "source": "# Votre réponse ci-dessous :\n\nclass ArbreBinaire:\n  def __init__(self, valeur):   \n        self.contenu = valeur \n        self.filsGauche = None        \n        self.filsDroit = None \n  def ajoutFilsGauche(self, valeur):\n      if self.filsGauche==None:\n        self.filsGauche= ArbreBinaire(valeur) \n      else :\n        self.filsGauche.ajoutFilsGauche(valeur)\n  def ajoutFilsDroit(self, valeur):\n      if self.filsDroit==None:\n        self.filsDroit = ArbreBinaire(valeur)      \n      else :\n        self.filsDroit.ajoutFilsDroit(valeur)\n  def __str__(self):\n    return(f\"[contenu : {self.contenu} / Fils Gauche : {self.filsGauche} / Fils droit : {self.filsDroit}]\")\n  def ajoutContenu(self,valeur):\n        if self.contenu == valeur:\n            return\n        elif valeur <self.contenu:\n            if self.filsGauche == None:\n                self.filsGauche = ArbreBinaire(valeur)\n            else:\n                self.filsGauche.ajoutContenu(valeur)\n        elif valeur >self.contenu:\n            if self.filsDroit == None:\n                self.filsDroit = ArbreBinaire(valeur)\n            else:\n                self.filsDroit.ajoutContenu(valeur)\n  def taille(self,count = 1): \n    if self.filsGauche != None:\n        count += 1\n        count = self.filsGauche.taille(self,count)\n    elif self.filsDroit != None:\n        count +=1\n        count = self.filsDroit.taille(self,count)\n    return count\n\n",
      "metadata": {},
      "execution_count": null,
      "outputs": [],
      "id": "06739442"
    },
    {
      "cell_type": "markdown",
      "source": "**2 - Créer l’arbre ci-dessous (exemple d’arbre donné sur Wikipédia) à l’aide de la classe ArbreBinaire**\n",
      "metadata": {},
      "id": "c9dda9a1"
    },
    {
      "cell_type": "markdown",
      "source": "<img src=\"https://github.com/Lionel-Helin-Oza/TP2.3-Les-Arbres-Impl-mentation-/blob/main/Image7.png?raw=true\" width=\"300\">",
      "metadata": {},
      "id": "ca46193f"
    },
    {
      "cell_type": "code",
      "source": "# Créé par Zalman, le 24/11/2023 en Python 3.7\n\n# Votre réponse ci-dessous (création de l'arbre):\nclass ArbreBinaire:\n  def __init__(self, valeur):\n        self.contenu = valeur\n        self.filsGauche = None\n        self.filsDroit = None\n  def ajoutFilsGauche(self, valeur):\n      if self.filsGauche==None:\n        self.filsGauche= ArbreBinaire(valeur)\n      else :\n        self.filsGauche.ajoutFilsGauche(valeur)\n  def ajoutFilsDroit(self, valeur):\n      if self.filsDroit==None:\n        self.filsDroit = ArbreBinaire(valeur)\n      else :\n        self.filsDroit.ajoutFilsDroit(valeur)\n  def __str__(self):\n    return(f\"[contenu : {self.contenu} / Fils Gauche : {self.filsGauche} / Fils droit : {self.filsDroit}]\")\n  def ajoutContenu(self,valeur):\n        if self.contenu == valeur:\n            return\n        elif valeur <self.contenu:\n            if self.filsGauche == None:\n                self.filsGauche = ArbreBinaire(valeur)\n            else:\n                self.filsGauche.ajoutContenu(valeur)\n        elif valeur >self.contenu:\n            if self.filsDroit == None:\n                self.filsDroit = ArbreBinaire(valeur)\n            else:\n                self.filsDroit.ajoutContenu(valeur)\n  def taille(self):\n    count = 1  # Initialisez count à 1 pour le nœud racine\n    if self.filsGauche is not None:\n        count += self.filsGauche.taille()\n    if self.filsDroit is not None:\n        count += self.filsDroit.taille()\n    return count\n\narbuste = ArbreBinaire(8)\narbuste.ajoutContenu(10)\narbuste.ajoutContenu(3)\narbuste.ajoutContenu(14)\narbuste.ajoutContenu(13)\narbuste.ajoutContenu(1)\narbuste.ajoutContenu(6)\narbuste.ajoutContenu(4)\narbuste.ajoutContenu(7)\nprint(arbuste)\nprint(arbuste.taille())",
      "metadata": {
        "trusted": true
      },
      "execution_count": 20,
      "outputs": [
        {
          "name": "stdout",
          "text": "9\n",
          "output_type": "stream"
        }
      ],
      "id": "83f1438b"
    },
    {
      "cell_type": "markdown",
      "source": "**3 - Tester votre fonction sur celui-ci**  Vous devriez trouver 9 comme réponse ( = au nombre de nœuds).",
      "metadata": {},
      "id": "f22e73e4"
    },
    {
      "cell_type": "code",
      "source": "# Votre réponse ci-dessous (test de la fonction):\n# Créé par Zalman, le 24/11/2023 en Python 3.7\n\n# Votre réponse ci-dessous (création de l'arbre):\nclass ArbreBinaire:\n  def __init__(self, valeur):\n        self.contenu = valeur\n        self.filsGauche = None\n        self.filsDroit = None\n  def ajoutFilsGauche(self, valeur):\n      if self.filsGauche==None:\n        self.filsGauche= ArbreBinaire(valeur)\n      else :\n        self.filsGauche.ajoutFilsGauche(valeur)\n  def ajoutFilsDroit(self, valeur):\n      if self.filsDroit==None:\n        self.filsDroit = ArbreBinaire(valeur)\n      else :\n        self.filsDroit.ajoutFilsDroit(valeur)\n  def __str__(self):\n    return(f\"[contenu : {self.contenu} / Fils Gauche : {self.filsGauche} / Fils droit : {self.filsDroit}]\")\n  def ajoutContenu(self,valeur):\n        if self.contenu == valeur:\n            return\n        elif valeur <self.contenu:\n            if self.filsGauche == None:\n                self.filsGauche = ArbreBinaire(valeur)\n            else:\n                self.filsGauche.ajoutContenu(valeur)\n        elif valeur >self.contenu:\n            if self.filsDroit == None:\n                self.filsDroit = ArbreBinaire(valeur)\n            else:\n                self.filsDroit.ajoutContenu(valeur)\n  def taille(self):\n    count = 1  # Initialisez count à 1 pour le nœud racine\n    if self.filsGauche is not None:\n        count += self.filsGauche.taille()\n    if self.filsDroit is not None:\n        count += self.filsDroit.taille()\n    return count\n\narbuste = ArbreBinaire(8)\narbuste.ajoutContenu(10)\narbuste.ajoutContenu(3)\narbuste.ajoutContenu(14)\narbuste.ajoutContenu(13)\narbuste.ajoutContenu(1)\narbuste.ajoutContenu(6)\narbuste.ajoutContenu(4)\narbuste.ajoutContenu(7)\nprint(arbuste)\nprint(arbuste.taille())\n\n\n\n",
      "metadata": {
        "trusted": true
      },
      "execution_count": 21,
      "outputs": [
        {
          "name": "stdout",
          "text": "[contenu : 8 / Fils Gauche : [contenu : 3 / Fils Gauche : [contenu : 1 / Fils Gauche : None / Fils droit : None] / Fils droit : [contenu : 6 / Fils Gauche : [contenu : 4 / Fils Gauche : None / Fils droit : None] / Fils droit : [contenu : 7 / Fils Gauche : None / Fils droit : None]]] / Fils droit : [contenu : 10 / Fils Gauche : None / Fils droit : [contenu : 14 / Fils Gauche : [contenu : 13 / Fils Gauche : None / Fils droit : None] / Fils droit : None]]]\n9\n",
          "output_type": "stream"
        }
      ],
      "id": "d93f5bf4"
    },
    {
      "cell_type": "markdown",
      "source": "---",
      "metadata": {},
      "id": "7eb73e8c"
    },
    {
      "cell_type": "markdown",
      "source": "### Exercice 5 (Calcul de la hauteur d’un arbre) ",
      "metadata": {},
      "id": "db2fa192"
    },
    {
      "cell_type": "markdown",
      "source": "**1 - Écrire une fonction hauteur(arbre) permettant de donner la hauteur d’un arbre binaire.** Utilisez la récursivité. \n\n*Rappel : la hauteur d’un arbre est la longueur de la plus longue des branches, de la racine jusqu'à la feuille. Ce paramètre est appelé la profondeur.*\n\nUn peu d’aide : encore une fois cela va être une fonction récursive. L'idée ici est de demander aux sous arbres leurs hauteur, et de retourner au dessus le max des 2, plus 1 pour s'ajouter à cette hauteur.\n\nVoici ce que la fonction doit faire :\n+ Si il y a un fils Gauche, on relance la fonction sur le sous-arbre Gauche (récursion) pour récupérer sa hauteur\n+ Si il y a un fils Droit, on relance la fonction sur le sous-arbre Droit (récursion) pour récupérer sa hauteur\n+ Retourner le max des hauteurs des sous-arbres (si il existent)* + 1 *(taille du nœud courant)\n\n",
      "metadata": {},
      "id": "f0969d9a"
    },
    {
      "cell_type": "markdown",
      "source": "***Votre réponse ci-dessous :***\n",
      "metadata": {},
      "id": "fd4d8a4d"
    },
    {
      "cell_type": "code",
      "source": "# Votre réponse ci-dessous :\n\n# Votre réponse ci-dessous (test de la fonction):\n# Créé par Zalman, le 24/11/2023 en Python 3.7\n\n# Votre réponse ci-dessous (création de l'arbre):\nclass ArbreBinaire:\n  def __init__(self, valeur):\n        self.contenu = valeur\n        self.filsGauche = None\n        self.filsDroit = None\n  def ajoutFilsGauche(self, valeur):\n      if self.filsGauche==None:\n        self.filsGauche= ArbreBinaire(valeur)\n      else :\n        self.filsGauche.ajoutFilsGauche(valeur)\n  def ajoutFilsDroit(self, valeur):\n      if self.filsDroit==None:\n        self.filsDroit = ArbreBinaire(valeur)\n      else :\n        self.filsDroit.ajoutFilsDroit(valeur)\n  def __str__(self):\n    return(f\"[contenu : {self.contenu} / Fils Gauche : {self.filsGauche} / Fils droit : {self.filsDroit}]\")\n  def ajoutContenu(self,valeur):\n        if self.contenu == valeur:\n            return\n        elif valeur <self.contenu:\n            if self.filsGauche == None:\n                self.filsGauche = ArbreBinaire(valeur)\n            else:\n                self.filsGauche.ajoutContenu(valeur)\n        elif valeur >self.contenu:\n            if self.filsDroit == None:\n                self.filsDroit = ArbreBinaire(valeur)\n            else:\n                self.filsDroit.ajoutContenu(valeur)\n  def taille(self):\n    count = 1  # Initialisez count à 1 pour le nœud racine\n    if self.filsGauche is not None:\n        count += self.filsGauche.taille()\n    if self.filsDroit is not None:\n        count += self.filsDroit.taille()\n    return count\n  def hauteur(self):\n        if self.filsGauche is None and self.filsDroit is None:\n            # Si le nœud est une feuille, sa hauteur est 0\n            return 0\n        hauteur_gauche = 0\n        hauteur_droit = 0\n        if self.filsGauche is not None:\n            # Si le nœud a un fils gauche, calculez la hauteur du sous-arbre gauche\n            hauteur_gauche = self.filsGauche.hauteur()\n        if self.filsDroit is not None:\n            # Si le nœud a un fils droit, calculez la hauteur du sous-arbre droit\n            hauteur_droit = self.filsDroit.hauteur()\n        # La hauteur du nœud est le maximum entre la hauteur du sous-arbre gauche et droit, plus 1 pour le nœud actuel\n        return max(hauteur_gauche, hauteur_droit) + 1\n        \n\narbuste = ArbreBinaire(8)\narbuste.ajoutContenu(10)\narbuste.ajoutContenu(3)\narbuste.ajoutContenu(14)\narbuste.ajoutContenu(13)\narbuste.ajoutContenu(1)\narbuste.ajoutContenu(6)\narbuste.ajoutContenu(4)\narbuste.ajoutContenu(7)\nprint(arbuste.hauteur())\n\n\n\n\n    \n    ",
      "metadata": {
        "trusted": true
      },
      "execution_count": 22,
      "outputs": [
        {
          "name": "stdout",
          "text": "3\n",
          "output_type": "stream"
        }
      ],
      "id": "981192ae"
    },
    {
      "cell_type": "markdown",
      "source": "**2 - Tester votre fonction sur l’arbre binaire précédent (issu de Wikipedia).** \n\nVous devriez trouver 3 comme réponse.",
      "metadata": {},
      "id": "55625010"
    },
    {
      "cell_type": "code",
      "source": "# Votre réponse ci-dessous (test de la fonction)\nclass ArbreBinaire:\n  def __init__(self, valeur):\n        self.contenu = valeur\n        self.filsGauche = None\n        self.filsDroit = None\n  def ajoutFilsGauche(self, valeur):\n      if self.filsGauche==None:\n        self.filsGauche= ArbreBinaire(valeur)\n      else :\n        self.filsGauche.ajoutFilsGauche(valeur)\n  def ajoutFilsDroit(self, valeur):\n      if self.filsDroit==None:\n        self.filsDroit = ArbreBinaire(valeur)\n      else :\n        self.filsDroit.ajoutFilsDroit(valeur)\n  def __str__(self):\n    return(f\"[contenu : {self.contenu} / Fils Gauche : {self.filsGauche} / Fils droit : {self.filsDroit}]\")\n  def ajoutContenu(self,valeur):\n        if self.contenu == valeur:\n            return\n        elif valeur <self.contenu:\n            if self.filsGauche == None:\n                self.filsGauche = ArbreBinaire(valeur)\n            else:\n                self.filsGauche.ajoutContenu(valeur)\n        elif valeur >self.contenu:\n            if self.filsDroit == None:\n                self.filsDroit = ArbreBinaire(valeur)\n            else:\n                self.filsDroit.ajoutContenu(valeur)\n  def taille(self):\n    count = 1  # Initialisez count à 1 pour le nœud racine\n    if self.filsGauche is not None:\n        count += self.filsGauche.taille()\n    if self.filsDroit is not None:\n        count += self.filsDroit.taille()\n    return count\n  def hauteur(self):\n        if self.filsGauche is None and self.filsDroit is None:\n            # Si le nœud est une feuille, sa hauteur est 0\n            return 0\n        hauteur_gauche = 0\n        hauteur_droit = 0\n        if self.filsGauche is not None:\n            # Si le nœud a un fils gauche, calculez la hauteur du sous-arbre gauche\n            hauteur_gauche = self.filsGauche.hauteur()\n        if self.filsDroit is not None:\n            # Si le nœud a un fils droit, calculez la hauteur du sous-arbre droit\n            hauteur_droit = self.filsDroit.hauteur()\n        # La hauteur du nœud est le maximum entre la hauteur du sous-arbre gauche et droit, plus 1 pour le nœud actuel\n        return max(hauteur_gauche, hauteur_droit) + 1\n        \n\narbuste = ArbreBinaire(8)\narbuste.ajoutContenu(10)\narbuste.ajoutContenu(3)\narbuste.ajoutContenu(14)\narbuste.ajoutContenu(13)\narbuste.ajoutContenu(1)\narbuste.ajoutContenu(6)\narbuste.ajoutContenu(4)\narbuste.ajoutContenu(7)\nprint(arbuste.hauteur())\n\n\n",
      "metadata": {},
      "execution_count": null,
      "outputs": [],
      "id": "7411bf9d"
    },
    {
      "cell_type": "markdown",
      "source": "---\n",
      "metadata": {},
      "id": "693c39a6"
    },
    {
      "cell_type": "markdown",
      "source": "### Exercice 6 (fonction appartient)   ",
      "metadata": {},
      "id": "9bd78032"
    },
    {
      "cell_type": "markdown",
      "source": "**1 - Écrire une fonction appartient(x,arbre) permettant de déterminer si la valeur x appartient à l’arbre arbre.** \n",
      "metadata": {},
      "id": "5ab5dcff"
    },
    {
      "cell_type": "code",
      "source": "# Votre réponse ci-dessous :\nclass ArbreBinaire:\n  def __init__(self, valeur):\n        self.contenu = valeur\n        self.filsGauche = None\n        self.filsDroit = None\n  def ajoutFilsGauche(self, valeur):\n      if self.filsGauche==None:\n        self.filsGauche= ArbreBinaire(valeur)\n      else :\n        self.filsGauche.ajoutFilsGauche(valeur)\n  def ajoutFilsDroit(self, valeur):\n      if self.filsDroit==None:\n        self.filsDroit = ArbreBinaire(valeur)\n      else :\n        self.filsDroit.ajoutFilsDroit(valeur)\n  def __str__(self):\n    return(f\"[contenu : {self.contenu} / Fils Gauche : {self.filsGauche} / Fils droit : {self.filsDroit}]\")\n  def ajoutContenu(self,valeur):\n        if self.contenu == valeur:\n            return\n        elif valeur <self.contenu:\n            if self.filsGauche == None:\n                self.filsGauche = ArbreBinaire(valeur)\n            else:\n                self.filsGauche.ajoutContenu(valeur)\n        elif valeur >self.contenu:\n            if self.filsDroit == None:\n                self.filsDroit = ArbreBinaire(valeur)\n            else:\n                self.filsDroit.ajoutContenu(valeur)\n  def taille(self):\n    count = 1  # Initialisez count à 1 pour le nœud racine\n    if self.filsGauche is not None:\n        count += self.filsGauche.taille()\n    if self.filsDroit is not None:\n        count += self.filsDroit.taille()\n    return count\n  def hauteur(self):\n        if self.filsGauche is None and self.filsDroit is None:\n            # Si le nœud est une feuille, sa hauteur est 0\n            return 0\n        hauteur_gauche = 0\n        hauteur_droit = 0\n        if self.filsGauche is not None:\n            # Si le nœud a un fils gauche, calculez la hauteur du sous-arbre gauche\n            hauteur_gauche = self.filsGauche.hauteur()\n        if self.filsDroit is not None:\n            # Si le nœud a un fils droit, calculez la hauteur du sous-arbre droit\n            hauteur_droit = self.filsDroit.hauteur()\n        # La hauteur du nœud est le maximum entre la hauteur du sous-arbre gauche et droit, plus 1 pour le nœud actuel\n        return max(hauteur_gauche, hauteur_droit) + 1\n        \n\narbuste = ArbreBinaire(8)\narbuste.ajoutContenu(10)\narbuste.ajoutContenu(3)\narbuste.ajoutContenu(14)\narbuste.ajoutContenu(13)\narbuste.ajoutContenu(1)\narbuste.ajoutContenu(6)\narbuste.ajoutContenu(4)\narbuste.ajoutContenu(7)\n\n\ndef appartient(arbre, x):\n    if arbre.contenu == x:\n        return True\n    if arbre.filsGauche is not None and x < arbre.contenu:\n        # Recherche dans le sous-arbre gauche\n        return appartient(arbre.filsGauche,x)\n    elif arbre.filsDroit is not None and x > arbre.contenu:\n        # Recherche dans le sous-arbre droit\n        return appartient(arbre.filsDroit,x)\n    # Si x n'est ni égal à la valeur du nœud ni dans les sous-arbres gauche/droit, l'élément n'est pas présent\n    return False\n\nprint(appartient(arbuste,1))\nprint(appartient(arbuste,15))\n\n            \n    \n    \n\n",
      "metadata": {
        "trusted": true
      },
      "execution_count": 24,
      "outputs": [
        {
          "name": "stdout",
          "text": "True\nFalse\n",
          "output_type": "stream"
        }
      ],
      "id": "998d5b53"
    },
    {
      "cell_type": "markdown",
      "source": "**2 - Tester votre fonction :** ",
      "metadata": {},
      "id": "b21550bc"
    },
    {
      "cell_type": "code",
      "source": "# Votre réponse ci-dessous (test de la fonction)\n\n\n\n\n\n",
      "metadata": {},
      "execution_count": null,
      "outputs": [],
      "id": "67226cff"
    },
    {
      "cell_type": "markdown",
      "source": "---",
      "metadata": {},
      "id": "f61fd072"
    },
    {
      "cell_type": "markdown",
      "source": "| <span style='color:Blue'> L.HELIN |  | |   | |     |<span style='color:Blue'> NSI Terminale | |   | ||<span style='color:Blue'> Lycée Ozanam (Lille) & Lycée NDPO (Orchies)|\n| --- | --- |--- |--- |--- |--- | --- | --- |--- |--- | --- | --- |",
      "metadata": {},
      "id": "7358b1ca"
    }
  ]
}