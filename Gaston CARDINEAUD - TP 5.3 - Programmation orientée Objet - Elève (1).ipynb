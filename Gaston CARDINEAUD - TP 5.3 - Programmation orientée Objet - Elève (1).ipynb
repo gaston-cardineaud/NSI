{
  "metadata": {
    "kernelspec": {
      "name": "python",
      "display_name": "Python (Pyodide)",
      "language": "python"
    },
    "language_info": {
      "codemirror_mode": {
        "name": "python",
        "version": 3
      },
      "file_extension": ".py",
      "mimetype": "text/x-python",
      "name": "python",
      "nbconvert_exporter": "python",
      "pygments_lexer": "ipython3",
      "version": "3.8"
    }
  },
  "nbformat_minor": 5,
  "nbformat": 4,
  "cells": [
    {
      "cell_type": "markdown",
      "source": "---",
      "metadata": {},
      "id": "1443e017"
    },
    {
      "cell_type": "markdown",
      "source": "<img src=\"https://github.com/Lionel-Helin-Oza/Images_Notebook/blob/main/NSI-Image.png?raw=true\" alt=\"drawing\" width=\"350\">",
      "metadata": {},
      "id": "d15d6e61"
    },
    {
      "cell_type": "markdown",
      "source": "# TP5.3 - La Programmation Orienté Objet (POO)\n\nDurée de l'activité proposé : 4h",
      "metadata": {},
      "id": "aff477f4"
    },
    {
      "cell_type": "markdown",
      "source": "<img src=\"https://github.com/Lionel-Helin-Oza/TP5.3---Programmation-Orient-e-Objet/blob/main/page_garde.png?raw=true\" width=\"400\">",
      "metadata": {},
      "id": "d3651f9a"
    },
    {
      "cell_type": "markdown",
      "source": "---",
      "metadata": {},
      "id": "5032505f"
    },
    {
      "cell_type": "markdown",
      "source": "\n## Rappel de Cours : c’est quoi la programmation Orientée Objet (POO) ? \n\nVous avez vu lors du TP précédent qu’il existait différent paradigme de programmation : événementiel, impératif et fonctionnelle par exemple. **La programmation orientée objet (POO)** est un autre type de paradigme, consistant en la définition et l’assemblage de briques logicielles appelées **« objets »**.  Ces objets peuvent interagir entre eux et cela facilite grandement la compréhension du code et sa maintenance. On oppose souvent la programmation objet à la programmation procédurale (impérative), la première étant plus \"professionnelle\" que l'autre car plus fiable et plus propre.\n\nPar le passé, un programme était une procédure logique qui récupérait des données en entrée, les traitait puis produisait des données en sortie. L'enjeu de la programmation était d'écrire la logique, pas de définir les données. La programmation orientée objet a changé la perspective : l'important, ce sont les objets à manipuler plutôt que la logique nécessaire à cette manipulation.\n\nLes **`objets`** sont très divers : des personnes (définies par leurs nom, adresse, etc.) aux bâtiments et aux étages (aux propriétés descriptibles et gérables) jusqu'aux petits widgets placés sur le bureau de votre ordinateur (comme les boutons et les barres de défilement).\n\n***Exemple :***  Si on prend le monde réel, nous sommes entourés d’objets : une chaise, une table, une voiture, etc. Ces objets forment un tout.\n- Ils possèdent des propriétés (la chaise possède 4 pieds, elle est de couleur bleue, etc.).\n- Ces objets peuvent faire des actions (la voiture peut rouler, klaxonner, etc.).\n- Ils peuvent également interagir entre eux (l’objet conducteur démarre la voiture, l’objet voiture fait tourner l’objet volant, etc.).\n\n\nLa première étape consiste donc à identifier tous les objets que le programmeur veut manipuler et leurs interactions ; exercice qualifié de modélisation des données.\n\nUne fois l'objet identifié, il est conceptualisé en une **`classe d'objets`** (pensez à Platon et à l'idée de chaise qui représente toutes les chaises). Cette classe définit le type de données qu'elle contient et toute séquence logique susceptible de la manipuler. Chaque séquence logique distincte est une **`méthode`**. \n\nLes concepts et les règles utilisés en programmation orientée objet procurent les bénéfices non négligeables :\n+ Le concept de classe de données permet de définir des sous-classes d'objets de données qui partagent certaines voire toutes les caractéristiques de la classe principale. Cette propriété dite « d'héritage » contraint à une analyse poussée des données, accélère le développement et produit **un code plus précis**.\n+ Comme une classe définit uniquement les données dont elle doit s'occuper, quand une instance de cette classe (un objet) s'exécute, le code ne peut pas accéder par erreur à d'autres données du programme. Masquer les données est une spécificité qui renforce la **sécurité du système** et évite de corrompre les données par accident.\n+ La définition d'une classe est réutilisable par le programme pour lequel on l'a initialement créée, mais aussi par d'autres programmes orientés objet. Elle est donc plus facile à distribuer pour une utilisation en réseau.\n+ Le concept de classes de données permet à un programme **de créer n'importe quel type de données encore indéfini** dans le langage lui-même.\n\nSimula a été le premier langage de programmation orientée objet. Java, Python, C++, Visual Basic .NET et Ruby sont aujourd'hui les langages les plus courants.\n\nPour aller plus loin : La POO repose sur certains principes (encapsulation, héritage, etc.) dont les détails sont présentés sur le lien suivant : \n\n> https://openclassrooms.com/fr/courses/2818931-programmez-en-oriente-objet-avec-c/2818941-introduction-a-la-programmation-orientee-objet\n\n",
      "metadata": {},
      "id": "746a3eef"
    },
    {
      "cell_type": "markdown",
      "source": "---",
      "metadata": {},
      "id": "9f2c3b8b"
    },
    {
      "cell_type": "markdown",
      "source": "## Structuration des données en Python : classes et attributs \n\n\nPython permet de créer de nouvelles structures de données, que l’on appellera **« `classe` »**. Ces structures (ou objets) vont venir s’ajouter aux structures déjà existantes de Python (liste,  dictionnaire, etc.).  La structure définie par une classe peut regrouper plusieurs composantes de natures variées. Chacune de ses composantes est appelée **`attribut`** et est dotée d’un **`nom`**. ",
      "metadata": {},
      "id": "57a1ad2c"
    },
    {
      "cell_type": "markdown",
      "source": "### <span style='color:Red'> 1.\tLes méthodes \n\nDans la POO, la notion de classe est associée à la notion d’encapsulation : un programme manipulant un objet n’est pas censé accéder librement à la totalité de son contenu. La manipulation de l’objet passe donc de préférence par une interface constituée de fonctions dédiées , qui font partie de la définition de la classe et sont appelées les **`méthodes`** de cette classe. \n\nLes méthodes d’une classe servent à manipuler les objets de cette classe. Chaque appel de méthode peut recevoir des paramètres mais s’applique avant tout à un objet de la classe concernée. \n\nUne méthode peut être vue comme une fonction ordinaire, pouvant dépendre d’un nombre arbitraire de paramètres, à ceci près qu’elle doit nécessairement avoir pour premier paramètre un objet de cette classe. Une méthode ne peut donc pas avoir zéro paramètre. \n\n",
      "metadata": {},
      "id": "1ad3ad28"
    },
    {
      "cell_type": "markdown",
      "source": "### <span style='color:Red'> 2.\tDéfinition d’une classe sous Python\n    \nOn souhaite par exemple définir un **`objet`** « voiture ».  Chaque voiture pourra être définie par différentes caractéristiques sur l’on nommera « **`attributs`** » : marque, modèle, couleur, carburant. La définition des attributs dépendra bien évidemment du contexte de votre problème. \n    \nEn python, nous écrirons :    \n    ",
      "metadata": {},
      "id": "2569ea74"
    },
    {
      "cell_type": "code",
      "source": "class Voiture: # nom de la classe\n    nb_place = 5      # attribut définie pour n’importe quel objet                                        \n                      # de la classe voiture = attribut de classe\n \n    def __init__(self,mar,mod,coul,carb) :  # définition d’une méthode init = constructeur\n                                            # attribut d’instance\n             \n            self.marque = mar                   # attribut marque\n            self.modele = mod                   # attribut modèle\n            self.couleur = coul                  # attribut couleur\n            self.carburant = carb               # attribut carburant\n    \n    def __str__(self):    \n        return \"Ma voiture est une \" + str(self.marque) + str(self.modele)\n    \n    def demarrer(self):\n        print (\"La voiture démarre\")\n",
      "metadata": {
        "scrolled": true
      },
      "execution_count": 40,
      "outputs": [],
      "id": "ac01d34b"
    },
    {
      "cell_type": "markdown",
      "source": "***Remarques***\n\n-\tle nom de la classe, ici « Voiture », commence par une majuscule.\n\n\n-\tLe reste de la définition est indenté par rapport au reste.\n\n\n-\tL’attribut de la classe nb_place n’est pas destiné à être modifié. \n\n\n-\tLe **`self`** paramètre est une référence à l'instance actuelle de la classe et est utilisé pour accéder aux variables appartenant à la classe. \nIl n'a pas besoin d'être nommé self, vous pouvez l'appeler comme vous le souhaitez, mais il doit être le premier paramètre de toute fonction de la classe:\n\n-\tLa **méthode** __`init`__ a pour premier attribut **self** et représente l’objet auquel elle s’applique. La méthode sera exécuté à chaque fois que l’on va créer un objet du type Voiture : la définition de la marque / modèle / couleur / carburant sera donc obligatoire lors de la création d’un objet de type Voiture. Elle est aussi appelée constructeur\n\n-\tDans cette méthode __`init`__, nous pouvons indiquer des valeurs par défaut. \n\n***Exemple :***  `def __init__(self,mar,mod,coul= « blanche »,carb= « diesel »)` :\n\nSi les indications de couleur et de carburant ne sont pas mentionnées lors de la création d’un objet Voiture, les indications « blanche » et « diesel » seront alors attribuées aux attributs de l’objet.\n\n-\tIl existe d’autres méthodes prédéfinies sur python : par exemple `__str__(self)`. C’est une méthode qui est appelé à chaque print d’un objet de cette classe.  Exemple ( à inclure dans la définition de la classe) : \n\n",
      "metadata": {},
      "id": "b85d88fe"
    },
    {
      "cell_type": "code",
      "source": "def __str__(self):    \n   return \"Ma voiture est une \" + str(self.marque) + str(self.modele)\n",
      "metadata": {},
      "execution_count": 41,
      "outputs": [],
      "id": "a7988dc2"
    },
    {
      "cell_type": "markdown",
      "source": "-\tOn peut créer d’autres méthodes pour la même classe, par exemple on pourrait imaginer la classe démarrer(), accélérer(), etc.  Par exemple : ",
      "metadata": {},
      "id": "ff1dca33"
    },
    {
      "cell_type": "code",
      "source": "def demarrer(self):\n        print (\"La voiture démarre\")\n",
      "metadata": {},
      "execution_count": 42,
      "outputs": [],
      "id": "f0350231"
    },
    {
      "cell_type": "markdown",
      "source": "### <span style='color:Red'> 3.\tCréation et appel d’un objet de la classe",
      "metadata": {},
      "id": "24064fbd"
    },
    {
      "cell_type": "markdown",
      "source": "***Exemples***",
      "metadata": {},
      "id": "5eaa966c"
    },
    {
      "cell_type": "code",
      "source": "ma_voiture = Voiture(\"Peugeot\",\"2008\",\"blanche\",\"SP95\")\n\n# Création d’un objet « ma_voiture » qui sera de la classe « voiture » , \n# de marque Peugeot, de modèle 2008, de couleur blanche et utilisant du SP95 (attributs) .",
      "metadata": {},
      "execution_count": 43,
      "outputs": [],
      "id": "f506f5eb"
    },
    {
      "cell_type": "code",
      "source": "print (ma_voiture.marque)\n\n# Affiche “Peugeot“ (on vient chercher l’attribut marque de l’objet « mavoiture ») ",
      "metadata": {},
      "execution_count": 44,
      "outputs": [
        {
          "name": "stdout",
          "output_type": "stream",
          "text": "Peugeot\n"
        }
      ],
      "id": "5b23708f"
    },
    {
      "cell_type": "code",
      "source": "print (ma_voiture)\n\n# Affiche “ Ma voiture est une Peugeot2008“ (utilise la méthode __str__  de la classe Voiture)",
      "metadata": {},
      "execution_count": 45,
      "outputs": [
        {
          "name": "stdout",
          "output_type": "stream",
          "text": "Ma voiture est une Peugeot2008\n"
        }
      ],
      "id": "da23bfbb"
    },
    {
      "cell_type": "code",
      "source": "ma_voiture.marque=\"Fiat\"\n\n# Va venir modifier l’attribut « marque » de l’objet « ma voiture ». \n# « Fiat » va venir « écraser » l’attribut « Peugeot » ",
      "metadata": {},
      "execution_count": 46,
      "outputs": [],
      "id": "eea638dc"
    },
    {
      "cell_type": "code",
      "source": "print (ma_voiture.demarrer())\n\n# Affiche « La voiture démarre » (utilisation de la méthode « démarrer » définie dans la classe",
      "metadata": {},
      "execution_count": 47,
      "outputs": [
        {
          "name": "stdout",
          "output_type": "stream",
          "text": "La voiture démarre\n\nNone\n"
        }
      ],
      "id": "547d0618"
    },
    {
      "cell_type": "code",
      "source": "print (ma_voiture.nb_place)\n\n# Affiche « 5 » ( attribut de la classe)",
      "metadata": {
        "scrolled": true
      },
      "execution_count": 49,
      "outputs": [
        {
          "name": "stdout",
          "output_type": "stream",
          "text": "5\n"
        }
      ],
      "id": "0885dbf9"
    },
    {
      "cell_type": "markdown",
      "source": "### <span style='color:Red'> 4.\tHéritage d'une classe\n    \nIl est possible de définir une nouvelle classe comme une extension d’une classe existante. La classe d’origine est appelée « **classe mère** » et la nouvelle classe « **classe fille** ». La classe fille possède alors tous les attributs de la classe mère, mais peut ajouter à sa définition de nouveaux attributs qui lui sont propre. La classe fille est comme un cas particulier, une **spécification**, de la classe mère. La classe même est une **généralisation** de la classe fille. \n    \n***Exemple*** : Définition d’une classe mère « Animal » et d’une classe fille « Cheval » : ",
      "metadata": {},
      "id": "073a2975"
    },
    {
      "cell_type": "code",
      "source": "# Définition de l'Ojet\n\nclass Animal :         # création d'une classe mère \"Animal\"\n    type='animal'\n\n    def __init__(self,gen,age,nom) :# définition d’une méthode constructeur\n        self.genre = gen \t         # male ou femelle\n        self.age = age               # age de l'animal\n        self.nom = nom               # nom de l'animal\n\n    def __str__(self):               # définition de la méthode d'affichage\n        return str(self.nom) + \" est un \" + str(Animal.type) + \" de \" + str(self.age) + \" ans\"\n\nclass Cheval(Animal) :              # création d'une classe fille \"Cheval\"\n    nourriture = 'herbivore'\n\n    def box (self,box):\n        self.box = box \t        # numéro de box ou le cheval\n\nsurprise=Cheval(\"male\",10,\"Surprise\")   # création d'un objet \"surprise\" de classe Cheval, avec les caractéristiques demandées dans la définition de la classe mère.\n\nsurprise.box(13)           # affectation de la valeur 13 à la variable box\n",
      "metadata": {},
      "execution_count": 54,
      "outputs": [],
      "id": "57d0f83a"
    },
    {
      "cell_type": "code",
      "source": "# Test des méthodes :\n\nprint(surprise)\n                    # Retourne Surprise est un animal de 10 ans\nsurprise.box\n                    # Retourne 13\n",
      "metadata": {},
      "execution_count": 55,
      "outputs": [
        {
          "name": "stdout",
          "output_type": "stream",
          "text": "Surprise est un animal de 10 ans\n"
        },
        {
          "execution_count": 55,
          "output_type": "execute_result",
          "data": {
            "text/plain": [
              "13"
            ]
          },
          "metadata": {}
        }
      ],
      "id": "1b92b7a4"
    },
    {
      "cell_type": "markdown",
      "source": "***Remarque***:\n\nComme nous l’avons vu, La `__init__()` fonction est appelée automatiquement chaque fois que la classe est utilisée pour créer un nouvel objet. Lorsque vous ajoutez la `__init__()` fonction, la classe enfant n'héritera plus de la `__init__()` fonction du parent .\n\n**La `__init__()` fonction de l'enfant remplace l'héritage de la `__init__()` fonction du parent .**\n\nPour conserver l'héritage de la `__init__()` fonction du parent , ajoutez un appel à la `__init__()` fonction du parent :\n\n***Exemple :*** \n",
      "metadata": {},
      "id": "5e14e2a3"
    },
    {
      "cell_type": "code",
      "source": "class Cheval(Animal):\n    def __init__(self, gen, age,nom):\n        Animal.__init__(self, gen,age,nom)\n        \n",
      "metadata": {},
      "execution_count": null,
      "outputs": [],
      "id": "955081c9"
    },
    {
      "cell_type": "markdown",
      "source": "---",
      "metadata": {},
      "id": "7eb73e8c"
    },
    {
      "cell_type": "markdown",
      "source": "---",
      "metadata": {},
      "id": "91af951d"
    },
    {
      "cell_type": "markdown",
      "source": "## EXERCICES  ",
      "metadata": {},
      "id": "9bd78032"
    },
    {
      "cell_type": "markdown",
      "source": "---",
      "metadata": {},
      "id": "87463cb5"
    },
    {
      "cell_type": "markdown",
      "source": "### <span style='color:Blue'> Exercice 1 - Triangle Rectangle",
      "metadata": {},
      "id": "830c1467"
    },
    {
      "cell_type": "markdown",
      "source": "Ecrire une classe **`TriangleRect`** qui contiendra les attributs **`cote1`**, **`cote2`** et **`hypotenuse`**.\n\nLa méthode constructeur ne prendra en paramètres que cote1 et cote2, l'attribut hypotenuse se calculera automatiquement.\n\n***Exemple d'utilisation de la classe***\n   \n`>>> mon_triangle = TriangleRect(3,4)`\n    \n`>>> mon_triangle.cote1`\n    \n`3`\n    \n`>>> mon_triangle.cote2`\n    \n`4`\n    \n`>>> mon_triangle.hypotenu\n    `\n`5.0`\n   \n    \n",
      "metadata": {},
      "id": "00db1dad"
    },
    {
      "cell_type": "code",
      "source": "# Votre réponse (code) ci-dessous :\nimport math\nclass trianglerect:\n    def __init__(self,cote1,cote2):\n        self.cote1 = cote1\n        self.cote2 = cote2\n        self.hypotenuse = sqrt(cote1*cote1 + cote2*cote2)\n\ntri = trianglerect(3,4)\nprint(tri.hypotenuse)\n\n",
      "metadata": {
        "trusted": true
      },
      "execution_count": 2,
      "outputs": [
        {
          "ename": "<class 'NameError'>",
          "evalue": "name 'sqrt' is not defined",
          "traceback": [
            "\u001b[0;31m---------------------------------------------------------------------------\u001b[0m",
            "\u001b[0;31mNameError\u001b[0m                                 Traceback (most recent call last)",
            "Cell \u001b[0;32mIn[2], line 9\u001b[0m\n\u001b[1;32m      6\u001b[0m         \u001b[38;5;28mself\u001b[39m\u001b[38;5;241m.\u001b[39mcote2 \u001b[38;5;241m=\u001b[39m cote2\n\u001b[1;32m      7\u001b[0m         \u001b[38;5;28mself\u001b[39m\u001b[38;5;241m.\u001b[39mhypotenuse \u001b[38;5;241m=\u001b[39m sqrt(cote1\u001b[38;5;241m*\u001b[39mcote1 \u001b[38;5;241m+\u001b[39m cote2\u001b[38;5;241m*\u001b[39mcote2)\n\u001b[0;32m----> 9\u001b[0m tri \u001b[38;5;241m=\u001b[39m \u001b[43mtrianglerect\u001b[49m\u001b[43m(\u001b[49m\u001b[38;5;241;43m3\u001b[39;49m\u001b[43m,\u001b[49m\u001b[38;5;241;43m4\u001b[39;49m\u001b[43m)\u001b[49m\n\u001b[1;32m     10\u001b[0m \u001b[38;5;28mprint\u001b[39m(tri\u001b[38;5;241m.\u001b[39mhypotenuse)\n",
            "Cell \u001b[0;32mIn[2], line 7\u001b[0m, in \u001b[0;36mtrianglerect.__init__\u001b[0;34m(self, cote1, cote2)\u001b[0m\n\u001b[1;32m      5\u001b[0m \u001b[38;5;28mself\u001b[39m\u001b[38;5;241m.\u001b[39mcote1 \u001b[38;5;241m=\u001b[39m cote1\n\u001b[1;32m      6\u001b[0m \u001b[38;5;28mself\u001b[39m\u001b[38;5;241m.\u001b[39mcote2 \u001b[38;5;241m=\u001b[39m cote2\n\u001b[0;32m----> 7\u001b[0m \u001b[38;5;28mself\u001b[39m\u001b[38;5;241m.\u001b[39mhypotenuse \u001b[38;5;241m=\u001b[39m \u001b[43msqrt\u001b[49m(cote1\u001b[38;5;241m*\u001b[39mcote1 \u001b[38;5;241m+\u001b[39m cote2\u001b[38;5;241m*\u001b[39mcote2)\n",
            "\u001b[0;31mNameError\u001b[0m: name 'sqrt' is not defined"
          ],
          "output_type": "error"
        }
      ],
      "id": "83c2fdbf"
    },
    {
      "cell_type": "markdown",
      "source": "---",
      "metadata": {},
      "id": "fc8e24cb"
    },
    {
      "cell_type": "markdown",
      "source": "### <span style='color:Blue'> Exercice 2 - Player",
      "metadata": {},
      "id": "ae6eb404"
    },
    {
      "cell_type": "markdown",
      "source": "Écrire une classe **`Player`** qui :\n\n- ne prendra aucun argument lors de son instanciation.\n\n\n- affectera à chaque objet créé un attribut **`energie`** valant 3 par défaut.\n\n\n- affectera à chaque objet créé un attribut **`alive`** valant True par défaut.\n\n\n- fournira à chaque objet une méthode **`blessure()`** qui diminue l'attribut energie de 1.\n\n\n- fournira à chaque objet une méthode **`soin()`** qui augmente l'attribut energie de 1.\n\n\n- si l'attribut energie passe à 0, l'attribut alive doit passer à False et ne doit plus pouvoir évoluer.\n\n***Exemple d'utilisation de la classe***\n    \n`mario = Player()`\n    \n`>>> mario.energie`\n    \n`3`\n    \n`>>> mario.soin()`\n    \n`>>> mario.energie`\n    \n`4`\n    \n`>>> mario.blessure()`\n    \n`>>> mario.blessure()`\n    \n`>>> mario.blessure()`\n    \n`>>> mario.alive`\n    \n`True`\n    \n`>>> mario.blessure()`\n    \n`>>> mario.alive`\n    \n`False`\n`>>> mario.soin()`\n    \n`>>> mario.alive`\n    \n`False`\n    \n`>>> mario.energie`\n    \n`0`\n\n    \n    \n    \n",
      "metadata": {},
      "id": "eb8d6f36"
    },
    {
      "cell_type": "code",
      "source": "# Votre réponse (code) ci-dessous :\nclass player:\n    def __init__(self):\n        self.energie = 3\n        self.alive = True\n    def blessure(self):\n        if self.energie !=0:\n            self.energie = self.energie -1\n            if self.energie ==0:\n                self.alive = False\n        else:\n            self.alive = False\n    def soin(self):\n        self.energie = self.energie +1\n        \nbob = player()\n\nprint(bob.energie)\nprint(bob.alive)\nbob.blessure()\nprint(bob.energie)\nbob.soin()\nprint(bob.energie)\nbob.blessure()\nbob.blessure()\nbob.blessure()\nbob.blessure()\nprint(bob.energie)\nprint(bob.alive)\n\n",
      "metadata": {
        "trusted": true
      },
      "execution_count": 9,
      "outputs": [
        {
          "name": "stdout",
          "text": "3\nTrue\n2\n3\n0\nFalse\n",
          "output_type": "stream"
        }
      ],
      "id": "acd216b7"
    },
    {
      "cell_type": "markdown",
      "source": "---",
      "metadata": {},
      "id": "cd73ff82"
    },
    {
      "cell_type": "markdown",
      "source": "### <span style='color:Blue'> Exercice 3 - Chrono",
      "metadata": {},
      "id": "8a6bc997"
    },
    {
      "cell_type": "markdown",
      "source": "1. Écrire une classe **`Chrono`** qui contiendra les attributs heures, minutes et secondes.\n\n\n2. Doter la classe d'une méthode **`affiche()`** qui fera affichera le temps t.\n\n\n3.\tDoter la classe d'une méthode **`avance(s)`** qui fera avancer le temps t de s secondes.\n\n    \n***Exemple d'utilisation de la classe***\n    \n`>>> t = Chrono(17,25,38)`\n    \n`>>> t.heures`\n    \n`17`\n    \n`>>> t.minutes`\n    \n`25`\n    \n`>>> t.secondes`\n    \n`38`\n    \n`>>> t.affiche()`\n    \n`'Il est 17 heures, 25 minutes et 38 secondes'`\n    \n`>>> t.avance(27)`\n    \n`>>> t.affiche()`\n    \n`'Il est 17 heures, 26 minutes et 5 secondes'`   \n",
      "metadata": {},
      "id": "9cc7d3c4"
    },
    {
      "cell_type": "code",
      "source": "# Votre réponse (code) ci-dessous :\nclass chrono:\n    def __init__(self,heure,minute,seconde):\n        self.heure = heure\n        self.minute = minute\n        self.seconde  = seconde\n    def affiche(self):\n        return(\"il est \"+str(self.heure)+ \" heure \"+str(self.minute)+' minutes et '+str(self.seconde)+\" seconde.\")\n    def avance(self,sec):\n        self.seconde = self.seconde + sec\n        while self.seconde >= 60:\n               self.seconde = self.seconde -60\n               self.minute = self.minute +1\n        while self.minute >= 60:\n               self.minute = self.minute -60\n               self.heure = self.heure +1\nt = chrono(17,25,38)\nprint(t.affiche())\nt.avance(27)\nprint(t.affiche())\nt.avance(999999)\nprint(t.affiche())\n\n\n\n\n\n",
      "metadata": {
        "trusted": true
      },
      "execution_count": 15,
      "outputs": [
        {
          "name": "stdout",
          "text": "il est 17 heure 25 minutes et 38 seconde.\nil est 17 heure 26 minutes et 5 seconde.\nil est 295 heure 12 minutes et 44 seconde.\n",
          "output_type": "stream"
        }
      ],
      "id": "7b9e5ef9"
    },
    {
      "cell_type": "markdown",
      "source": "---",
      "metadata": {},
      "id": "c44ae74d"
    },
    {
      "cell_type": "markdown",
      "source": "### <span style='color:Blue'> Exercice 4 - Satellite",
      "metadata": {},
      "id": "b1623405"
    },
    {
      "cell_type": "markdown",
      "source": "Definissez une classe **`Satellite()`** qui permette d'instancier des objets simulant des satellites artificiels lancés dans l'espace, autour de la terre. \n\nLe constructeur de cette classe initialisera les attributs d'instance suivants, avec les valeurs par défaut indiquées :\nmasse = 100, vitesse = 0.\n\nLorsque l'on instanciera un nouvel objet Satellite(), on pourra choisir son nom, sa masse et sa vitesse.\n\nLes méthodes suivantes seront définies :\n\n- **`impulsion(force, duree)`** permettra de faire varier la vitesse du satellite. Pour savoir comment, rappelez-vous votre cours de physique : la variation de vitesse Δv subie par un objet de masse m soumis à l'action d'une force F pendant un temps t vaut : \n\n∆v=(F×t)/m\n\n*Par exemple : un satellite de 300 kg qui subit une force de 600 Newtons pendant 10 secondes voit sa vitesse augmenter (ou diminuer) de 20 m/s*. \n\n- **`affiche_vitesse()`** affichera le nom du satellite et sa vitesse courante.\n\n\n- **`energie()`** renverra au programme appelant la valeur de l'énergie cinétique du satellite. \nRappel : l’énergie cinétique se calcule a l'aide de la formule E_c=(m×v^2)/2\n    \n    \n***Exemple d'utilisation de la classe***\n    \n`>>> s1 = Satellite('Zoé', masse =250, vitesse =10)`\n    \n`>>> s1.impulsion(500, 15)`\n    \n`>>> s1.affiche_vitesse()`\n    \n`vitesse du satellite Zoé = 40 m/s.`\n    \n`>>> print s1.energie()`\n    \n`200000`\n    \n`>>> s1.impulsion(500, 15)`\n    \n`>>> s1.affiche_vitesse()`\n    \n`vitesse du satellite Zoé = 70 m/s.`\n    \n`>>> print s1.energie()`\n    \n`612500`    \n    ",
      "metadata": {},
      "id": "c2a2dbf7"
    },
    {
      "cell_type": "code",
      "source": "# Votre réponse (code) ci-dessous :\n\nclass satelite:\n    def __init__(self,name,masse =100,vitesse = 0):\n        self.name = name\n        self.masse = masse \n        self.vitesse = vitesse\n    def impulsion(self,force,duree):\n        self.vitesse = self.vitesse + (force*duree)/self.masse\n    def affiche_vitesse(self):\n        return \"le satelite \" + self.name + \" a une vitesse de \" +str(self.vitesse)+\" m/s\"\n    def energie(self):\n        return (self.masse * self.vitesse **2)/2\n    \n    \ns1 = satelite(\"bob\",masse = 250,vitesse = 10)\ns1.impulsion(500,15)\nprint(s1.masse)\nprint(s1.vitesse)\nprint(s1.affiche_vitesse())\nprint(s1.energie())\n        \n    \n\n       \n    ",
      "metadata": {
        "trusted": true
      },
      "execution_count": 20,
      "outputs": [
        {
          "name": "stdout",
          "text": "250\n40.0\nle satelite bob a une vitesse de 40.0 km/h\n200000.0\n",
          "output_type": "stream"
        }
      ],
      "id": "e0c59c46"
    },
    {
      "cell_type": "markdown",
      "source": "---",
      "metadata": {},
      "id": "7dc862ed"
    },
    {
      "cell_type": "markdown",
      "source": "### <span style='color:Blue'> Exercice 5 - Compte Bancaire   ",
      "metadata": {},
      "id": "27d5f3ae"
    },
    {
      "cell_type": "markdown",
      "source": "Définir une classe **`CompteBancaire`**, ayant pour attributs de ce compte bancaire : le **nom** du titulaire, le **solde**, le numéro de client (**idclient**). \n\nL’argument **`solde`** doit être facultatif et avoir une valeur prédéfinie à zéro. \n\n- Ecrire le constructeur de la classe\n\n\n- Ajoutez une méthode **`depot(somme)`** et **`retrait(somme)`** qui permet de modifier le solde en fonction d’un dépôt ou d’un retrait sur le compte du client. \n\n\n- Ajoutez une méthode **`__str__()`** qui montre le solde courant en indiquant le nom de la personne.\n\n\n- Tester ces méthodes.\n",
      "metadata": {},
      "id": "3bb09143"
    },
    {
      "cell_type": "code",
      "source": "# Votre réponse (code) ci-dessous :\nclass comptebancaire:\n    def __init__(self,nom,idclient,solde = 0):\n        self.nom = nom\n        self.solde = solde\n        self.idclient = idclient\n    def depot(self,somme):\n        self.solde = self.solde + somme\n    def retrait(self,somme):\n        self.solde = self.solde - somme\n    def __str__(self):\n        return \"le solde de \" + str(self.nom) + \" est de \" + str(self.solde) + \" euros.\"\n    \nluc = comptebancaire(\"luc\",135443)\nprint(luc)\nluc.depot(500)\nprint(luc)\nluc.retrait(20)\nprint(luc)\n    \n    \n    ",
      "metadata": {
        "trusted": true
      },
      "execution_count": 24,
      "outputs": [
        {
          "name": "stdout",
          "text": "le solde de luc est de 0 euros.\nle solde de luc est de 500 euros.\nle solde de luc est de 480 euros.\n",
          "output_type": "stream"
        }
      ],
      "id": "73f2dd0f"
    },
    {
      "cell_type": "markdown",
      "source": "---",
      "metadata": {},
      "id": "50922e41"
    },
    {
      "cell_type": "markdown",
      "source": "### <span style='color:Blue'> Exercice 6 - Les Dates   \n",
      "metadata": {},
      "id": "3426eed9"
    },
    {
      "cell_type": "markdown",
      "source": "Définir une classe **`Date`** pour représenter une date, avec 3 attributs : **`jour`** / **`mois`** / **`année`**.\nMois sera définit comme un entier. \n\n- Ecrire son constructeur\n\n\n- Ajouter une méthode **`__str__`** qui renvoie une chaine de caractères de la forme «  14 Juillet 2020 ». \nPour ceci, on pourra se servir d’un attribut de la classe sous forme d’un tableau donnant les 12 mois de l’année, et accéder à la valeur du tableau à l’aide de l’attribut mois. \n\n\n- Ajouter une méthode **`__lt__`** qui reçoit une seconde date en argument et qui permet de déterminer si une date d1 est antérieure à une date d2 en écrivant d1 < d2\n",
      "metadata": {},
      "id": "8e915e84"
    },
    {
      "cell_type": "code",
      "source": "# Votre réponse (code) ci-dessous :\nclass date:\n    tab = [\"janvier\",\"fevrier\",\"mars\",\"avril\",\"mai\",\"juin\",\"juillet\",\"aout\",\"septembre\",\"octobre\",\"novembre\",\"decembre\"]\n    def __init__(self,jour:int,mois:int,annee:int):\n        self.jour = jour\n        self.mois = mois\n        self.annee = annee\n    def __str__(self):\n        return(str(self.jour) + \" \"+date.tab[self.mois-1]+ \" \" + str(self.annee))\n    def __it__(self,date2):\n        if self.annee < date2.annee:\n            return True\n        elif self.annee == date2.annee:\n            if self.mois < date2.mois:\n                return True\n            elif self.mois == date2.mois:\n                if self.jour <= date2.jour:\n                    return True\n                else:\n                    return False\n            else:\n                return False\n        else:\n            return False\n        \ndate1 = date(6,4,2017)\ndate2 = date(5,5,2016)\nprint(date1)\nprint(date2)\nprint(date1.__it__(date2))\n\n\n\n\n",
      "metadata": {
        "trusted": true
      },
      "execution_count": 36,
      "outputs": [
        {
          "name": "stdout",
          "text": "6 avril 2017\n5 mai 2016\nFalse\n",
          "output_type": "stream"
        }
      ],
      "id": "c4e51a73"
    },
    {
      "cell_type": "markdown",
      "source": "---",
      "metadata": {},
      "id": "cac3a1fb"
    },
    {
      "cell_type": "markdown",
      "source": "### <span style='color:Blue'> Exercice 7 - Les fractions   ",
      "metadata": {},
      "id": "d49bd2eb"
    },
    {
      "cell_type": "markdown",
      "source": "Définir une classe **`fraction`** pour représenter un nombre rationnel. Cette classe possède deux attributs, **`num`** et **`denom`**, qui sont des entiers et désignent respectivement le numérateur et le dénominateur. On demande que le dénominateur soit plus particulièrement un entier strictement positif. \n\n- Ecrire le constructeur de cette classe. Dans ce constructeur, tester si le dénominateur est négatif et afficher un message d’erreur dans ce cas.\n\n\n- Ajouter une méthode **`__str__`** qui renvoie une chaine de caractère de la forme « 12 / 35 », ou simplement « 12 » lorsque le dénominateur vaut 1.\n\n\n- Ajouter des méthodes **`__eq__`** et **`__lt__`** qui reçoivent une deuxième fraction en argument et renvoie True si la première fraction représente respectivement un nombre égal ou un nombre strictement inférieur à la deuxième fraction. \n\n\n- Ajouter des méthodes **`__add__`** et **`__mul__`** qui reçoivent une deuxième fraction en argument et renvoient une nouvelle fraction représentant la somme et le produit des deux fractions\n\n\n- Tester ces opérations. \n\nEn bonus, pour aller plus loin : modifier le constructeur pour que les fractions soient toujours sous forme réduite. \n",
      "metadata": {},
      "id": "8072f8c8"
    },
    {
      "cell_type": "code",
      "source": "# Votre réponse (code) ci-dessous :\n\nclass fraction:\n    def __init__(self,num,denom:int+):\n        self.num = num\n        self.denom = denom\n        \n\n\n\n\n",
      "metadata": {},
      "execution_count": null,
      "outputs": [],
      "id": "f7a4075a"
    },
    {
      "cell_type": "markdown",
      "source": "---",
      "metadata": {},
      "id": "a306d8ab"
    },
    {
      "cell_type": "markdown",
      "source": "### <span style='color:Blue'> Exercice 8 - Rectangle et Héritage",
      "metadata": {},
      "id": "8d52aa30"
    },
    {
      "cell_type": "markdown",
      "source": "- Ecrire une classe **`Rectangle`** en langage Python, ayant pour attributs **`longueur`** et **`largeur`**.\n\n\n- Créer les méthodes :\n\n    -\t**`Perimetre()`** permettant de calculer le périmètre du rectangle \n    -\t**`Surface()`** permettant de calculer la surface du rectangle\n    -\t**`Estcarre()`** qui vérifie si le rectangle est un carré\n    \n\n- Créer une méthode qui, lorsque l’on veut afficher l’objet rectangle, renvoi la phrase « l’objet est un rectangle de longueur… et de largeur….. »\n\n\n- Créer une classe fille **`Parallelepipede`** héritant de la classe mère Rectangle et ayant en plus un attribut hauteur.\n\n\n- Insérer dans cette classe fille une autre méthode **`Volume()`** permettant de calculer le volume du Parallélépipède. \n",
      "metadata": {},
      "id": "5d9aa57a"
    },
    {
      "cell_type": "code",
      "source": "# Votre réponse (code) ci-dessous :\n\n\n\n\n\n\n",
      "metadata": {},
      "execution_count": null,
      "outputs": [],
      "id": "9cb55510"
    },
    {
      "cell_type": "markdown",
      "source": "---",
      "metadata": {},
      "id": "f61fd072"
    },
    {
      "cell_type": "markdown",
      "source": "| <span style='color:Blue'> L.HELIN |  | |   | |     |<span style='color:Blue'> NSI Terminale | |   | ||<span style='color:Blue'> Lycée Ozanam (Lille) & Lycée NDPO (Orchies)|\n| --- | --- |--- |--- |--- |--- | --- | --- |--- |--- | --- | --- |",
      "metadata": {},
      "id": "7358b1ca"
    }
  ]
}