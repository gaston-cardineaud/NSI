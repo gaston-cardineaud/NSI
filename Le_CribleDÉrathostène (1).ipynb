{
  "metadata": {
    "colab": {
      "name": "Le CribleDÉrathostène.ipynb",
      "provenance": []
    },
    "kernelspec": {
      "name": "python",
      "display_name": "Python (Pyodide)",
      "language": "python"
    },
    "language_info": {
      "codemirror_mode": {
        "name": "python",
        "version": 3
      },
      "file_extension": ".py",
      "mimetype": "text/x-python",
      "name": "python",
      "nbconvert_exporter": "python",
      "pygments_lexer": "ipython3",
      "version": "3.8"
    }
  },
  "nbformat_minor": 4,
  "nbformat": 4,
  "cells": [
    {
      "cell_type": "markdown",
      "source": "\n# Crible d'Ératosthène\n\n**Le crible d'[Ératosthène](https://fr.wikipedia.org/wiki/Crible_d%27Ératosthène)** est un procédé qui permet de trouver tous les nombres premiers inférieurs à un certain entier naturel donné N. \n\n## Qu'est ce qu'un nombre premier?\nUn nombre premier est **Un entier naturel** qui admet exactement **deux diviseurs distincts entiers et positifs (qui sont alors 1 et lui-même)**. \nCette définition exclut donc 1, qui n'a qu'un seul diviseur entier positif.\n\n##L'algorithme du Crible d'Ératosthène en Python\n\n###Première version:\n\nRéaliser le programme permettant de trouver tous les nombres premiers inférieurs à un certain entier naturel **n** donné en paramètre.\n\nLe programme doit renvoyer la liste résultante de tous les nombres premiers.\n\nPour mieux comprendre le fonctionnement de l'algorithme en question, visualiuser cette vidéo: [Comment retrouver les 25 premiers nombres premiers - Crible d'Ératosthène](https://youtu.be/w-gI60OHXmc)\n",
      "metadata": {
        "id": "QpeZ6vEvnghx"
      }
    },
    {
      "cell_type": "code",
      "source": "# Ecrire et commlenter votre programme ici\ndef nb_premier(x):\n    tab = [i for i in range(2,x+1)] ##cree une table contenant toute les valeurs de 2 a s'elle entré\n    newtab = [1] ##cree une table qui contiendra les nombre premier (et on ajoute 1)\n    for x in tab:\n        a = verif(x) ##on assossie a a le resultat de l'autre fonction\n        if a is not None: ##on verifie que a n'est pas un none element a cause du return de l'autre fonction\n            newtab.append(a)\n    return newtab\n\ndef verif(i):\n        x = 2 ##x est le diviseur et on le commence a 2\n        while x<i:## tant que le diviseur et inferieur aux divisé\n             if i%x ==0: \n                  return ##si le resulta euclidien est egal a 0 alors ces un nombre premier alors on mes fin a la fonction (ce qui cera un nonevalue)\n             x = x+1 ## on augmente de 1 le diviseur\n        return i\nprint(nb_premier(50))\n        \n",
      "metadata": {
        "id": "dU07P1UXnX-5",
        "trusted": true
      },
      "execution_count": 17,
      "outputs": [
        {
          "name": "stdout",
          "text": "[2, 3, 5, 7, 11, 13, 17, 19, 23, 29, 31, 37, 41, 43, 47]\n",
          "output_type": "stream"
        }
      ]
    },
    {
      "cell_type": "markdown",
      "source": "###Deuxième version:\n\nSimplifier l'écriture de votre programme précédent en tenant compte des paradigmes de la programmation fonctionnelle.",
      "metadata": {
        "id": "Gk0h9ZoyciWD"
      }
    },
    {
      "cell_type": "code",
      "source": "# Ecrire et commenter votre programme fonctionnel ici\n\ndef nb_premier(x):\n    tab = [i for i in range(2,x+1)] ##cree une table contenant toute les valeurs de 2 a s'elle entré\n    newtab = [1] ##cree une table qui contiendra les nombre premier (et on ajoute 1)\n    for x in tab:\n        a = verif(x) ##on assossie a a le resultat de l'autre fonction\n        if a is not None: ##on verifie que a n'est pas un none element a cause du return de l'autre fonction\n            newtab.append(a)\n    return newtab\n\ndef verif(i):\n        x = 2 ##x est le diviseur et on le commence a 2\n        while x<i:## tant que le diviseur et inferieur aux divisé\n             if i%x ==0: \n                  return ##si le resulta euclidien est egal a 0 alors ces un nombre premier alors on mes fin a la fonction (ce qui cera un nonevalue)\n             x = x+1 ## on augmente de 1 le diviseur\n        return i\nprint(nb_premier(50))",
      "metadata": {
        "id": "PpVTxnncdDjC",
        "trusted": true
      },
      "execution_count": 18,
      "outputs": []
    },
    {
      "cell_type": "markdown",
      "source": "\n###Troisième version\nEcrire un programme récursif fonctionnel utilisant le Crible d'Ératosthène",
      "metadata": {
        "id": "xv3s1N-QeDnd"
      }
    },
    {
      "cell_type": "code",
      "source": "# Ecrire et commenter votre programme fonctionnel récursif ici\n\ndef algo(n):\n    tab = [i for i in range(2,x+1)]\n    for i in range(2,n+1):\n        for y in range(2,n+1):\n            x = y*i\n            try:\n                tab.remove(x)\n            except:\n                pass\n    return tab\ntab = [i for i in range(2,x+1)]\ndef recursif\n\n\n\n\n",
      "metadata": {
        "id": "1L4RBF-0etPE"
      },
      "execution_count": null,
      "outputs": []
    },
    {
      "cell_type": "markdown",
      "source": "##Conclusion\nPour suivre les étapes d'exécution de votre programme, utiliser [Python Tutor](https://pythontutor.com/visualize.html#mode=edit).\nEssayer de commenter le résultat.",
      "metadata": {
        "id": "8qKtFJ33eyYG"
      }
    }
  ]
}